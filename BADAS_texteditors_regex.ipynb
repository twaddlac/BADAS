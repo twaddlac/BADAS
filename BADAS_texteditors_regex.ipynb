{
 "cells": [
  {
   "cell_type": "markdown",
   "metadata": {
    "deletable": true,
    "editable": true
   },
   "source": [
    "# Text Editors\n",
    "\n",
    "Text editors are an integral part of data analysis. There are many different flavors: some have a graphical interface, some are on the command line; some are good for writing papers, others for code. As you begin to conduct more analyses you will see that some tools suit you better than others. With that said, we will introduce you to some of the text editors that we use often and recommend."
   ]
  },
  {
   "cell_type": "markdown",
   "metadata": {
    "deletable": true,
    "editable": true
   },
   "source": [
    "## vi/vim\n",
    "\n",
    "vim is one of the most basic, ligthweight, and widely available and used text editors around. It is bundled with almost all unix environments. It is convenient for working remotely where you do not have a keyboard and mouse, which graphical editors require. Instead, you use commands and the arrow keys to navigate the file. Sounds intimidating but it's pretty straightforward!"
   ]
  },
  {
   "cell_type": "markdown",
   "metadata": {
    "deletable": true,
    "editable": true
   },
   "source": [
    "### Basic Usage\n",
    "\n",
    "To get started with vim, you can open a new file with\n",
    "```bash\n",
    "vim\n",
    "```\n",
    "If you want to open an existing file, just add the name of the file after vim \n",
    "```bash\n",
    "vim [filename]\n",
    "```\n",
    "\n",
    "### Command Mode\n",
    "\n",
    "When you first open vim, all alphanumeric keys are bound to commands. For example, if you type `dd` then you will delete the line where your cursor is instead of actually entering 'dd'. \n",
    "\n",
    "**Navigation**\n",
    "- `0` moves the cursor to the beginning of the line.\n",
    "- `$` moves the cursor to the end of the line.\n",
    "- `shift+G` move to the end of the file.\n", 
    "- `gg` move to the beginning of the file.\n",
    "- `: + line number` go directly to line number.\n",
    "- `shift+5` go to corresponding bracket.\n",
    "- `shift+3` go to previous instance of this word\n",
    "\n",
    "**Editing**\n",
    "- `d` starts the delete operation.\n",
    "- `dw` will delete a word.\n",
    "- `d0` will delete to the beginning of a line.\n",
    "- `d$` will delete to the end of a line.\n",
    "- `dd` will delete an entire line.\n",
    "- `dgg` will delete to the beginning of the file.\n",
    "- `dG` will delete to the end of the file.\n",
    "- `u` will undo the last operation.\n",
    "- `Ctrl-r` will redo the last undo.\n",
    "\n",
    "### Insert Mode\n",
    "\n",
    "This is the basic editing mode. All of the keys will function as normal: i.e. if you now type `dd` you will enter 'dd' into the file.\n",
    "\n",
    "- `i` enters insert mode\n",
    "- `escape` exits insert mode\n",
    "**Copying and Pasting**\n",
    "- `v` highlight one character at a time.\n",
    "- `V` highlight one line at a time.\n",
    "- `Ctrl-v` highlight by columns.\n",
    "- `p` paste text after the current line.\n",
    "- `P` paste text on the current line.\n",
    "- `y` yank text into the copy buffer.\n",
    "\n",
    "### Menu Mode\n",
    "\n",
    "**Regex/substitute**\n",
    "- `/text` search for text in the document, going forward.\n",
    "- `n` move the cursor to the next instance of the text from the last search. This will wrap to the beginning of the document.\n",
    "- `N` move the cursor to the previous instance of the text from the last search.\n",
    "- `?text` search for text in the document, going backwards.\n",
    "- `:%s/text/replacement text/g` search through the entire document for text and replace it with replacement text.\n",
    "- `:%s/text/replacement text/gc` search through the entire document and confirm before replacing text.\n",
    "\n",
    "**Save files**\n",
    "- `:w` saves the file\n",
    "- `:w [filename]` saves the file to `filename`\n",
    "- `:q` exits vime\n",
    "- `:wq` saves and quits\n",
    "- `:q!` force quit (ignore prompts)\n",
    "\n"
   ]
  },
  {
   "cell_type": "markdown",
   "metadata": {
    "deletable": true,
    "editable": true
   },
   "source": [
    "# Regular Expressions\n",
    "\n"
   ]
  },
  {
   "cell_type": "markdown",
   "metadata": {
    "deletable": true,
    "editable": true
   },
   "source": [
    "A regular expression (aka regex) is a sequence of characters that describe or match a text pattern. For example, the string **aabb12** could be described as *aabb12*, two a's, *two'bs, then 1, then 2*, or *four letters followed by two numbers*. \n",
    "\n",
    "## Metacharacters\n",
    "\n",
    "Metacharacters are characters that have an alternate meaning rather than a literal meaning. There are many of these and they can be found on the [Python regular expression documentation](https://docs.python.org/2/library/re.html#regular-expression-syntax).\n",
    "\n",
    "For example, we'll take the following characters to search a text file:\n",
    "- 'A'\n",
    "- '.'\n",
    "- '$'"
   ]
  },
  {
   "cell_type": "code",
   "execution_count": 76,
   "metadata": {
    "collapsed": false,
    "deletable": true,
    "editable": true,
    "scrolled": true
   },
   "outputs": [
    {
     "data": {
      "text/plain": [
       "['A']"
      ]
     },
     "execution_count": 76,
     "metadata": {},
     "output_type": "execute_result"
    }
   ],
   "source": [
    "import re\n",
    "\n",
    "text = 'Alan is the coolest person ever!$$$'\n",
    "\n",
    "# compiling a regular expression allows you to reuse the regular expression.\n",
    "A = re.compile('A')\n",
    "dot = re.compile('.')\n",
    "dollar = re.compile('$')\n",
    "\n",
    "# Any pattern that is matches will be presented as an item within a list.\n",
    "A.findall(text)"
   ]
  },
  {
   "cell_type": "code",
   "execution_count": 77,
   "metadata": {
    "collapsed": false,
    "deletable": true,
    "editable": true
   },
   "outputs": [
    {
     "data": {
      "text/plain": [
       "['A',\n",
       " 'l',\n",
       " 'a',\n",
       " 'n',\n",
       " ' ',\n",
       " 'i',\n",
       " 's',\n",
       " ' ',\n",
       " 't',\n",
       " 'h',\n",
       " 'e',\n",
       " ' ',\n",
       " 'c',\n",
       " 'o',\n",
       " 'o',\n",
       " 'l',\n",
       " 'e',\n",
       " 's',\n",
       " 't',\n",
       " ' ',\n",
       " 'p',\n",
       " 'e',\n",
       " 'r',\n",
       " 's',\n",
       " 'o',\n",
       " 'n',\n",
       " ' ',\n",
       " 'e',\n",
       " 'v',\n",
       " 'e',\n",
       " 'r',\n",
       " '!',\n",
       " '$',\n",
       " '$',\n",
       " '$']"
      ]
     },
     "execution_count": 77,
     "metadata": {},
     "output_type": "execute_result"
    }
   ],
   "source": [
    "dot.findall(text)"
   ]
  },
  {
   "cell_type": "code",
   "execution_count": 78,
   "metadata": {
    "collapsed": false,
    "deletable": true,
    "editable": true
   },
   "outputs": [
    {
     "data": {
      "text/plain": [
       "['']"
      ]
     },
     "execution_count": 78,
     "metadata": {},
     "output_type": "execute_result"
    }
   ],
   "source": [
    "dollar.findall(text)"
   ]
  },
  {
   "cell_type": "markdown",
   "metadata": {
    "deletable": true,
    "editable": true
   },
   "source": [
    "## Position Metacharacters\n",
    "\n",
    "This type of regular expression is used to match characters based on where they are located as opposed to what the character means.\n",
    "\n",
    "Let's take the '$' example. We now know that it matches the end of a line so if we couple that with another character:"
   ]
  },
  {
   "cell_type": "code",
   "execution_count": 79,
   "metadata": {
    "collapsed": false,
    "deletable": true,
    "editable": true
   },
   "outputs": [
    {
     "data": {
      "text/plain": [
       "['$']"
      ]
     },
     "execution_count": 79,
     "metadata": {},
     "output_type": "execute_result"
    }
   ],
   "source": [
    "text = 'Alan is the coolest man ever!$$$'\n",
    "\n",
    "# In regular expressions, backslashes tell the engine to interpret metacharacters as literals.\n",
    "dollar = re.compile('\\$$')\n",
    "\n",
    "dollar.findall(text)"
   ]
  },
  {
   "cell_type": "markdown",
   "metadata": {
    "deletable": true,
    "editable": true
   },
   "source": [
    "Similarly, '^' matches the beginning of a line:"
   ]
  },
  {
   "cell_type": "code",
   "execution_count": 80,
   "metadata": {
    "collapsed": false,
    "deletable": true,
    "editable": true
   },
   "outputs": [
    {
     "data": {
      "text/plain": [
       "['A']"
      ]
     },
     "execution_count": 80,
     "metadata": {},
     "output_type": "execute_result"
    }
   ],
   "source": [
    "# IGNORECASE tells the intepreter match the meaning of the character, not character and case\n",
    "caret = re.compile('^a', re.IGNORECASE)\n",
    "\n",
    "caret.findall(text)"
   ]
  },
  {
   "cell_type": "markdown",
   "metadata": {
    "deletable": true,
    "editable": true
   },
   "source": [
    "There are also boundary metacharacters. For example, '\\b' matches a word that ends with 'ing'. Inversely, '\\B' matches a non-boundary word, so it would match the 'ing' in 'things' but not 'thing'. This is useful for specifying substrings or whole words.\n",
    "\n",
    "NOTE: some characters are treated as literals even when they are backslached. See here for more deltails: \n",
    "https://stackoverflow.com/questions/2241600/python-regex-r-prefix\n",
    "https://stackoverflow.com/questions/21104476/what-does-the-r-in-pythons-re-compiler-pattern-flags-mean"
   ]
  },
  {
   "cell_type": "code",
   "execution_count": 81,
   "metadata": {
    "collapsed": false,
    "deletable": true,
    "editable": true
   },
   "outputs": [
    {
     "name": "stdout",
     "output_type": "stream",
     "text": [
      "word boundary []\n",
      "non-word boundary ['is']\n"
     ]
    }
   ],
   "source": [
    "text = 'pistol'\n",
    "\n",
    "# 'is' is surrounded by non-blank characters, not boundaries\n",
    "boundary = re.compile(r'\\bis\\b')\n",
    "print('word boundary',boundary.findall(text))\n",
    "\n",
    "# However, it is surrounded by non-boundary characters, so it is found by non-word boundary searches\n",
    "nonboundary = re.compile('\\Bis\\B')\n",
    "print('non-word boundary',nonboundary.findall(text))\n"
   ]
  },
  {
   "cell_type": "code",
   "execution_count": 82,
   "metadata": {
    "collapsed": false,
    "deletable": true,
    "editable": true
   },
   "outputs": [
    {
     "name": "stdout",
     "output_type": "stream",
     "text": [
      "word boundary ['is']\n",
      "non-word boundary []\n"
     ]
    }
   ],
   "source": [
    "text = 'is'\n",
    "\n",
    "boundary = re.compile(r'\\bis\\b')\n",
    "print('word boundary', boundary.findall(text))\n",
    "\n",
    "nonboundary = re.compile('\\Bis\\B')\n",
    "print('non-word boundary', nonboundary.findall(text))"
   ]
  },
  {
   "cell_type": "markdown",
   "metadata": {
    "deletable": true,
    "editable": true
   },
   "source": [
    "## Single Metacharacters\n",
    "\n",
    "These metacharacters match specific types of charactes. For example, you can match all alphanumeric characters with '\\w' or any whitespace character with '\\s'"
   ]
  },
  {
   "cell_type": "code",
   "execution_count": 83,
   "metadata": {
    "collapsed": false,
    "deletable": true,
    "editable": true
   },
   "outputs": [
    {
     "data": {
      "text/plain": [
       "['1', '2', '3']"
      ]
     },
     "execution_count": 83,
     "metadata": {},
     "output_type": "execute_result"
    }
   ],
   "source": [
    "text = '123 abc !@#'\n",
    "\n",
    "digits = re.compile('\\d')\n",
    "digits.findall(text)"
   ]
  },
  {
   "cell_type": "code",
   "execution_count": 84,
   "metadata": {
    "collapsed": false,
    "deletable": true,
    "editable": true
   },
   "outputs": [
    {
     "data": {
      "text/plain": [
       "['1', '2', '3', 'a', 'b', 'c']"
      ]
     },
     "execution_count": 84,
     "metadata": {},
     "output_type": "execute_result"
    }
   ],
   "source": [
    "# any alphanumeric character\n",
    "wordchar = re.compile('\\w')\n",
    "wordchar.findall(text)"
   ]
  },
  {
   "cell_type": "code",
   "execution_count": 85,
   "metadata": {
    "collapsed": false,
    "deletable": true,
    "editable": true
   },
   "outputs": [
    {
     "data": {
      "text/plain": [
       "[' ', ' ', '!', '@', '#']"
      ]
     },
     "execution_count": 85,
     "metadata": {},
     "output_type": "execute_result"
    }
   ],
   "source": [
    "# any non-word character\n",
    "nonwordchar = re.compile('\\W')\n",
    "nonwordchar.findall(text)"
   ]
  },
  {
   "cell_type": "code",
   "execution_count": 86,
   "metadata": {
    "collapsed": false,
    "deletable": true,
    "editable": true
   },
   "outputs": [
    {
     "data": {
      "text/plain": [
       "['1', '2', '3', ' ', 'a', 'b', 'c', ' ', '!', '@', '#']"
      ]
     },
     "execution_count": 86,
     "metadata": {},
     "output_type": "execute_result"
    }
   ],
   "source": [
    "# any non-newline character\n",
    "dot = re.compile('.')\n",
    "dot.findall(text)"
   ]
  },
  {
   "cell_type": "markdown",
   "metadata": {
    "deletable": true,
    "editable": true
   },
   "source": [
    "## Quantifiers\n",
    "\n",
    "All examples before have been searching for individual characters. Quanitfiers allow you to match repeated patterns."
   ]
  },
  {
   "cell_type": "code",
   "execution_count": 87,
   "metadata": {
    "collapsed": false,
    "deletable": true,
    "editable": true
   },
   "outputs": [
    {
     "data": {
      "text/plain": [
       "['a', 'a', 'b', 'b', 'c', 'd', 'e', 'f', '1', '2', '3']"
      ]
     },
     "execution_count": 87,
     "metadata": {},
     "output_type": "execute_result"
    }
   ],
   "source": [
    "text = 'aa bb cdef 123'\n",
    "\n",
    "# this looks for every instance of a non-word character\n",
    "wordchar = re.compile('\\w')\n",
    "wordchar.findall(text)"
   ]
  },
  {
   "cell_type": "code",
   "execution_count": 88,
   "metadata": {
    "collapsed": false,
    "deletable": true,
    "editable": true
   },
   "outputs": [
    {
     "data": {
      "text/plain": [
       "['aa', 'bb', 'cdef', '123']"
      ]
     },
     "execution_count": 88,
     "metadata": {},
     "output_type": "execute_result"
    }
   ],
   "source": [
    "# the '+' tells the interpreter to look for one or more consecutive characters\n",
    "wordchar = re.compile('\\w+')\n",
    "wordchar.findall(text)"
   ]
  },
  {
   "cell_type": "code",
   "execution_count": 89,
   "metadata": {
    "collapsed": false,
    "deletable": true,
    "editable": true
   },
   "outputs": [
    {
     "name": "stdout",
     "output_type": "stream",
     "text": [
      "colour ['colour']\n",
      "color ['color']\n"
     ]
    }
   ],
   "source": [
    "# '?' is looking for characters that appear once or not at all. It basically makes the preceding character optional.\n",
    "text = 'colour'\n",
    "\n",
    "conditional = re.compile('colou?r')\n",
    "print('colour',conditional.findall(text))\n",
    "\n",
    "text = 'color'\n",
    "print('color', conditional.findall(text))"
   ]
  },
  {
   "cell_type": "code",
   "execution_count": 90,
   "metadata": {
    "collapsed": false,
    "deletable": true,
    "editable": true
   },
   "outputs": [
    {
     "name": "stdout",
     "output_type": "stream",
     "text": [
      "b ['b']\n",
      "boo ['boo']\n",
      "boooo! ['boooo']\n"
     ]
    }
   ],
   "source": [
    "# Asterisk is doesn't require the preceding character to be there, but if it is it will match it\n",
    "# will repeat the pattern as many times as is can.\n",
    "text = 'b'\n",
    "star = re.compile('bo*')\n",
    "print('b',star.findall(text))\n",
    "\n",
    "text = 'boo'\n",
    "print('boo',star.findall(text))\n",
    "\n",
    "text = 'boooo!'\n",
    "print('boooo!', star.findall(text))"
   ]
  },
  {
   "cell_type": "code",
   "execution_count": 91,
   "metadata": {
    "collapsed": false,
    "deletable": true,
    "editable": true
   },
   "outputs": [
    {
     "name": "stdout",
     "output_type": "stream",
     "text": [
      "boo ['boo']\n",
      "boooo! ['boo']\n"
     ]
    }
   ],
   "source": [
    "# curly brackets define a number of times in which the preceding pattern will be repeated\n",
    "repeat = re.compile('bo{2}')\n",
    "text = 'boo'\n",
    "print('boo',repeat.findall(text))\n",
    "\n",
    "text = 'boooo!'\n",
    "print('boooo!', repeat.findall(text))"
   ]
  },
  {
   "cell_type": "markdown",
   "metadata": {
    "deletable": true,
    "editable": true
   },
   "source": [
    "## Character Classes\n",
    "\n",
    "A character class allows you to match a particular set of user defined characters as oppsed to the predefined metacharacters we went over previously. Think of searching for any vowel."
   ]
  },
  {
   "cell_type": "code",
   "execution_count": 92,
   "metadata": {
    "collapsed": false,
    "deletable": true,
    "editable": true
   },
   "outputs": [
    {
     "name": "stdout",
     "output_type": "stream",
     "text": [
      "vowels ['I', 'i', 'e', 'o', 'o', 'a', 'e']\n"
     ]
    }
   ],
   "source": [
    "text = 'I like chocolate'\n",
    "\n",
    "vowels = re.compile('[AEIOUY]', re.IGNORECASE)\n",
    "print('vowels', vowels.findall(text))"
   ]
  },
  {
   "cell_type": "markdown",
   "metadata": {
    "deletable": true,
    "editable": true
   },
   "source": [
    "Alternatively, you can use a caret (^) within the square brackets if these are charaters you do not want to match. In this case, it will match all consonants."
   ]
  },
  {
   "cell_type": "code",
   "execution_count": 93,
   "metadata": {
    "collapsed": false,
    "deletable": true,
    "editable": true
   },
   "outputs": [
    {
     "name": "stdout",
     "output_type": "stream",
     "text": [
      "vowels [' ', 'l', 'k', ' ', 'c', 'h', 'c', 'l', 't']\n"
     ]
    }
   ],
   "source": [
    "vowels = re.compile('[^AEIOUY]', re.IGNORECASE)\n",
    "print('vowels', vowels.findall(text))"
   ]
  },
  {
   "cell_type": "markdown",
   "metadata": {
    "collapsed": false,
    "deletable": true,
    "editable": true
   },
   "source": [
    "You can also specify ranges of characters:"
   ]
  },
  {
   "cell_type": "code",
   "execution_count": 94,
   "metadata": {
    "collapsed": false,
    "deletable": true,
    "editable": true
   },
   "outputs": [
    {
     "name": "stdout",
     "output_type": "stream",
     "text": [
      "pattern ['c', 'c', 'a']\n"
     ]
    }
   ],
   "source": [
    "pattern = re.compile('[a-d]', re.IGNORECASE)\n",
    "print('pattern', pattern.findall(text))"
   ]
  },
  {
   "cell_type": "markdown",
   "metadata": {
    "deletable": true,
    "editable": true
   },
   "source": [
    "## Alterations\n",
    "\n",
    "This is essentially just an 'or' statement. An example would be if you are looking for whether a sentence says 'we have ten dollars.' or 'I have ten dollars.' Since the only varying piece of that sentence are the pronouns, you can try to match either."
   ]
  },
  {
   "cell_type": "code",
   "execution_count": 95,
   "metadata": {
    "collapsed": false,
    "deletable": true,
    "editable": true
   },
   "outputs": [
    {
     "name": "stdout",
     "output_type": "stream",
     "text": [
      "I ['I']\n",
      "They ['They']\n",
      "We ['We']\n"
     ]
    }
   ],
   "source": [
    "text = 'I have ten dollars'\n",
    "pattern = re.compile('we|i|they', re.IGNORECASE)\n",
    "print('I', pattern.findall(text))\n",
    "\n",
    "text = 'They have ten dollars'\n",
    "pattern = re.compile('we|i|they', re.IGNORECASE)\n",
    "print('They', pattern.findall(text))\n",
    "\n",
    "text = 'We have ten dollars'\n",
    "pattern = re.compile('we|i|they', re.IGNORECASE)\n",
    "print('We', pattern.findall(text))"
   ]
  },
  {
   "cell_type": "markdown",
   "metadata": {
    "deletable": true,
    "editable": true
   },
   "source": [
    "## Backreferences\n",
    "\n",
    "Back references/captures allow you to reuse regular expressions and/or patterns that match that regular expression. \n",
    "\n",
    "Let's give a biological example:\n",
    "You're looking for a motif that has flanking restriction sites ACTG. The motif can be of any length and any composition of nucleotides but is always flanked by those cuts sites:"
   ]
  },
  {
   "cell_type": "code",
   "execution_count": 96,
   "metadata": {
    "collapsed": false,
    "deletable": true,
    "editable": true
   },
   "outputs": [
    {
     "name": "stdout",
     "output_type": "stream",
     "text": [
      "matches: ('ACTG', 'TTTTTTTTT')\n",
      "matches: ('ACTG', 'AAAAAAAAAAAAAA')\n"
     ]
    }
   ],
   "source": [
    "text = 'ACTGTTTTTTTTTACTG'\n",
    "\n",
    "# the '\\1' is the refence to the first captured pattern.\n",
    "# All patterns are ennumerated but can also be named.\n",
    "print('matches:',re.search(r'(ACTG)([ACTG]+)\\1', text).groups())\n",
    "\n",
    "text = 'ATCGCAGCTACGACTGAAAAAAAAAAAAAAACTG'\n",
    "print('matches:',re.search(r'(ACTG)([ACTG]+)\\1', text).groups())"
   ]
  },
  {
   "cell_type": "markdown",
   "metadata": {
    "deletable": true,
    "editable": true
   },
   "source": [
    "## Substitution Mode\n",
    "\n",
    "There are several ways that one can use regular expressions, though the two main modes are searching and substituting.\n",
    "\n",
    "Searching/matching will only look for whether or not a pattern is matched. Substituting will replace any pattern that is matched with another pattern. Above we have used only searching, so below will only showcase an example of a substitution."
   ]
  },
  {
   "cell_type": "code",
   "execution_count": 97,
   "metadata": {
    "collapsed": false,
    "deletable": true,
    "editable": true
   },
   "outputs": [
    {
     "data": {
      "text/plain": [
       "'AAAATTTTTTTTTAAAA'"
      ]
     },
     "execution_count": 97,
     "metadata": {},
     "output_type": "execute_result"
    }
   ],
   "source": [
    "text = 'ACTGTTTTTTTTTACTG'\n",
    "re.sub(r'ACTG', 'AAAA', text)"
   ]
  },
  {
   "cell_type": "markdown",
   "metadata": {},
   "source": [
    "# Command Line Examples\n",
    "\n",
    "\n",
    "## Constructing a Regular Expression\n",
    "\n",
    "Arguably the most difficult task with regular expressions is being able to construct one. Often in cases I am trying extract information that match multiple different patterns or the same pattern but in different lines of text. **In order to create a regular expression, you first need to identify the pattern**. This generally requires some brief understanding of the file format and the relevant information as well as finding a pattern that applies to information that you're interested in.\n",
    "\n",
    "To give you some insight on how to do this, the examples below are scenarios that I often find myself in that are a perfect fit for regular expressions."
   ]
  },
  {
   "cell_type": "markdown",
   "metadata": {},
   "source": [
    "## Parsing a GFF file\n",
    "\n",
    "There are a few tools, such as sed, awk, and grep, that are used for text munging but I happen to use Perl, as it provides a lot of flexibility when doing complex regular expressions and other data munging tasks.\n",
    "\n",
    "grep can only match patterns (or the inverse of patterns) and cannot be used to replace or transform text. Though limited, it is a nice tool to have for quick searches in files or across filesystems. In this example, all I need is to match a pattern, so grep will suffice.\n",
    "\n",
    "A GFF file is a standard tab-delimited file format for genomic annotations. Most gff files contain every type of annotated feature for that organism (mRNA, exons, UTRs, motifs, etc.) which are not always relevant to the analysis and may sometimes may actuall interfere with the analysis.\n",
    "\n",
    "Let's say **I want to extract all annotated mRNAs** from this file. First thing is to understand the [gff file format](https://www.ensembl.org/info/website/upload/gff.html). Reading the documentation will tell you that it is tab delimited and the third column contains the feature type. So looking at the file will sho you:"
   ]
  },
  {
   "cell_type": "code",
   "execution_count": 98,
   "metadata": {
    "collapsed": false
   },
   "outputs": [
    {
     "name": "stdout",
     "output_type": "stream",
     "text": [
      "##gff-version 3\r\n",
      "##sequence-region I 1 15072434\r\n",
      "##sequence-region II 1 15279421\r\n",
      "##sequence-region III 1 13783801\r\n",
      "##sequence-region IV 1 17493829\r\n",
      "##sequence-region V 1 20924180\r\n",
      "##sequence-region X 1 17718942\r\n",
      "##sequence-region MtDNA 1 13794\r\n",
      "I\tBLAT_EST_OTHER\texpressed_sequence_match\t1\t50\t12.8\t-\t.\tID=yk585b5.5.6;Target=yk585b5.5 119 168 +\r\n",
      "I\tBLAT_Trinity_OTHER\texpressed_sequence_match\t1\t52\t20.4\t+\t.\tID=elegans_PE_SS_GG6116|c0_g1_i1.2;Target=elegans_PE_SS_GG6116|c0_g1_i1 174 225 +\r\n",
      "I\tinverted\tinverted_repeat\t1\t212\t66\t.\t.\tNote=loop 426\r\n",
      "I\tGenbank\tassembly_component\t1\t2679\t.\t+\t.\tgenbank=FO080985\r\n",
      "I\tGenomic_canonical\tassembly_component\t1\t2679\t.\t+\t.\tName=cTel33B;Note=Clone:cTel33B,GenBank:FO080985\r\n",
      "I\tVariation_project_Polymorphism\ttandem_duplication\t1\t11000\t.\t+\t.\tvariation=WBVar02123961;public_name=WBVar02123961;other_name=cewivar00854884;strain=JU533;polymorphism=1;consequence=Coding_exon\r\n",
      "I\tinterpolated_pmap_position\tgene\t1\t559784\t.\t.\t.\tID=gmap:spe-13;gmap=spe-13;status=uncloned;Note=-21.3602 cM (+/- 1.84 cM)\r\n",
      "I\tBalanced_by_balancer\tbiological_region\t1\t5263413\t.\t.\t.\tbalancer=Rearrangement:hT3;balancer_type=Translocation;Note=Summary: Translocation (rigorous proof of reciprocity lacking)%252C moderately well characterized%252C very stable. Very effective balancer for left portion of LG I from left end to around let-363%252C and the right portion of LG X from the right end to between dpy-7 and unc-3. hT3(I)%252C which disjoins from normal LG I%252C is probably LG X (right) translocated to LG I (right). hT3(X)%252Cwhich disjoins from normal LG X%252C is probably LG I (left) translocated to LG X (left).,Growth characteristics: Original isolate marked with dpy-5 and unc-29. Homozygous inviable%252C probably breaks in let-363 (I). Heterozygotes exhibit reduced viability%252C low level of X chromosome nondisjunction (1.2%25).,Handling: Easy to manipulate. Rare exceptional progeny carry one half-translocation as a free duplication. Recombination frequency in unbalanced intervals increased on both LG I and LG X.,Recommended use: General balancing%252C strain maintenance\r\n",
      "I\tBalanced_by_balancer\tbiological_region\t1\t7383197\t.\t.\t.\tbalancer=Rearrangement:sDp2;balancer_type=Duplication;Note=Summary: Free duplication%252C well characterized%252C does not recombine with normal homologues. Very effective balancer for the left portion of LG I from the left end through unc-15 (just left of unc-13).,Handling: sDp2-bearing males mate and give some progeny%252C but are slow growing and do not compete well with non-Dp males in mating.,Recommended use: General balancing%252C strain maintenance%252C mutant screens.\r\n",
      "I\tBalanced_by_balancer\tbiological_region\t1\t7454088\t.\t.\t.\tbalancer=Rearrangement:szDp1;balancer_type=Duplication;Note=Summary: Complex free duplication%252C well characterized%252C does not recombine with normal LG I. Very effective balancer for the left portion of LG I from the left end through unc-13. Consists of one half-translocation [szT1(X)] from szT1 maintained in addition to a normal chromosome complement.,Growth characteristics: Animals carrying two copies of szDp1 apparently inviable. Duplication strains give rise to spontaneous males through meiotic nondisjunction of the X chromosome.,Handling: szDp1-bearing males either do not mate or are infertile.,Recommended use:\r\n",
      "I\tBalanced_by_balancer\tbiological_region\t1\t7454088\t.\t.\t.\tbalancer=Rearrangement:szT1;balancer_type=Translocation;Note=Summary: Reciprocal translocation%252C well characterized%252C very stable. Effective balancer for left portion of LG I through unc-13%252C nearly all of LG X from right end to around dpy-3. szT1(I) is large segment of LG X (right) translocated to LG I%252C disjoins from normal LG I. szT1(X) is LG I (left) translocated to fragment of LG X (left)%252C disjoins from normal LG X.,Handling: Easy to manipulate. Lon-2 szT1 males mate well. Rare exceptional progeny carry one half-translocation as a complex free duplication. Gives rise spontaneously to rare apparent lethal mutations that may represent fusion of szT1(X) and the normal X. Shows threefold enhanced recombination frequency immediately adjacent to right of LG I breakpoint and about twofold enhanced frequency in the unc-101 - unc-54 interval.,Recommended use: General balancing%252C strain construction%252C strain maintenance.\r\n",
      "I\tBalanced_by_balancer\tbiological_region\t1\t8244513\t.\t.\t.\tbalancer=Rearrangement:hT1;balancer_type=Translocation;Note=Summary: Reciprocal translocation%252C well characterized%252C very stable. Very effective balancer for left portion of LG I from the left end through let-80%252C and the left portion of LG V from the left end through dpy-11. hT1(I) is LG V (left) translocated to LG I (right)%252C disjoins from normal LG I. hT1(V) is LG I (left) translocated to LG V (right)%252C disjoins from normal LG V.,Growth characteristics: Homozygous inviable%252C cause unknown. Arrests at L3. Brood size in heterozygotes ~75. Easy to manipulate. Heterozygous males mate well. Rare exceptional progeny carry one half-translocation as a complex free duplication. Recombination frequency in the unbalanced unc-101 - unc-54 interval on LG I is increased twofold.,Handling: Easy to manipulate. Heterozygous males mate well. Rare exceptional progeny carry one half-translocation as a complex free duplication. Recombination frequency in the unbalanced unc-101 - unc-54 interval on LG I is increased twofold.,Recommended use: General balancing%252C strain maintenance. mutant screens.\r\n"
     ]
    }
   ],
   "source": [
    "! head -n 20 caenorhabditis_elegans.PRJNA13758.WBPS9.annotations.gff3"
   ]
  },
  {
   "cell_type": "markdown",
   "metadata": {
    "collapsed": true
   },
   "source": [
    "Looking at the entire file is daunting and doesn't provide a list of features found within this file. So, we can use a few commands to get a full representation of each feature type described in the file."
   ]
  },
  {
   "cell_type": "code",
   "execution_count": 99,
   "metadata": {
    "collapsed": false
   },
   "outputs": [
    {
     "name": "stdout",
     "output_type": "stream",
     "text": [
      "antisense_RNA\n",
      "assembly_component\n",
      "base_call_error_correction\n",
      "binding_site\n",
      "biological_region\n",
      "CDS\n",
      "complex_substitution\n",
      "conserved_region\n",
      "deletion\n",
      "DNAseI_hypersensitive_site\n",
      "duplication\n",
      "enhancer\n",
      "exon\n",
      "experimental_result_region\n",
      "expressed_sequence_match\n",
      "five_prime_UTR\n",
      "gene\n",
      "##gff-version 3\n",
      "G_quartet\n",
      "histone_binding_site\n",
      "insertion_site\n",
      "intron\n",
      "inverted_repeat\n",
      "lincRNA\n",
      "low_complexity_region\n",
      "miRNA\n",
      "miRNA_primary_transcript\n",
      "mRNA\n",
      "mRNA_region\n",
      "nc_primary_transcript\n",
      "ncRNA\n",
      "nucleotide_match\n",
      "operon\n",
      "PCR_product\n",
      "piRNA\n",
      "point_mutation\n",
      "polyA_signal_sequence\n",
      "polyA_site\n",
      "polypeptide_motif\n",
      "possible_base_call_error\n",
      "pre_miRNA\n",
      "promoter\n",
      "protein_coding_primary_transcript\n",
      "protein_match\n",
      "pseudogenic_rRNA\n",
      "pseudogenic_transcript\n",
      "pseudogenic_tRNA\n",
      "reagent\n",
      "regulatory_region\n",
      "repeat_region\n",
      "RNAi_reagent\n",
      "rRNA\n",
      "SAGE_tag\n",
      "scRNA\n",
      "##sequence-region I 1 15072434\n",
      "##sequence-region II 1 15279421\n",
      "##sequence-region III 1 13783801\n",
      "##sequence-region IV 1 17493829\n",
      "##sequence-region MtDNA 1 13794\n",
      "##sequence-region V 1 20924180\n",
      "##sequence-region X 1 17718942\n",
      "SL1_acceptor_site\n",
      "SL2_acceptor_site\n",
      "snoRNA\n",
      "SNP\n",
      "snRNA\n",
      "substitution\n",
      "tandem_duplication\n",
      "tandem_repeat\n",
      "TF_binding_site\n",
      "three_prime_UTR\n",
      "transcribed_fragment\n",
      "transcription_end_site\n",
      "transcript_region\n",
      "translated_nucleotide_match\n",
      "transposable_element\n",
      "transposable_element_insertion_site\n",
      "tRNA\n",
      "TSS_region\n"
     ]
    }
   ],
   "source": [
    "! cut -f3 caenorhabditis_elegans.PRJNA13758.WBPS9.annotations.gff3 | sort | uniq"
   ]
  },
  {
   "cell_type": "markdown",
   "metadata": {},
   "source": [
    "We see that there are a lot of *RNA*s here, and there happen to be two different *mRNA* feature types. So, now that we know the feature type and the format we can construct our regular expression:"
   ]
  },
  {
   "cell_type": "code",
   "execution_count": 100,
   "metadata": {
    "collapsed": false
   },
   "outputs": [
    {
     "name": "stdout",
     "output_type": "stream",
     "text": [
      "I\tWormBase\tmRNA\t4116\t10230\t.\t-\t.\tID=Transcript:Y74C9A.3;Parent=Gene:WBGene00022277;Name=Y74C9A.3;wormpep=WP:CE28146;locus=homt-1\r\n",
      "I\tWormBase\tmRNA\t11495\t16793\t.\t+\t.\tID=Transcript:Y74C9A.2a.1;Parent=Gene:WBGene00022276;Name=Y74C9A.2a.1;wormpep=WP:CE24660;locus=nlp-40\r\n",
      "I\tWormBase\tmRNA\t11495\t16837\t.\t+\t.\tID=Transcript:Y74C9A.2a.2;Parent=Gene:WBGene00022276;Name=Y74C9A.2a.2;wormpep=WP:CE24660;locus=nlp-40\r\n",
      "I\tWormBase\tmRNA\t11499\t16837\t.\t+\t.\tID=Transcript:Y74C9A.2a.3;Parent=Gene:WBGene00022276;Name=Y74C9A.2a.3;wormpep=WP:CE24660;locus=nlp-40\r\n",
      "I\tWormBase\tmRNA\t11505\t16837\t.\t+\t.\tID=Transcript:Y74C9A.2a.4;Parent=Gene:WBGene00022276;Name=Y74C9A.2a.4;wormpep=WP:CE24660;locus=nlp-40\r\n",
      "I\tWormBase\tmRNA\t11618\t16837\t.\t+\t.\tID=Transcript:Y74C9A.2a.5;Parent=Gene:WBGene00022276;Name=Y74C9A.2a.5;wormpep=WP:CE24660;locus=nlp-40\r\n",
      "I\tWormBase\tmRNA\t11623\t16837\t.\t+\t.\tID=Transcript:Y74C9A.2b;Parent=Gene:WBGene00022276;Name=Y74C9A.2b;wormpep=WP:CE49228;locus=nlp-40\r\n",
      "I\tWormBase\tmRNA\t17487\t26781\t.\t-\t.\tID=Transcript:Y74C9A.4b;Parent=Gene:WBGene00022278;Name=Y74C9A.4b;wormpep=WP:CE28147;locus=rcor-1\r\n",
      "I\tWormBase\tmRNA\t17497\t24796\t.\t-\t.\tID=Transcript:Y74C9A.4d;Parent=Gene:WBGene00022278;Name=Y74C9A.4d;wormpep=WP:CE49439;locus=rcor-1\r\n",
      "I\tWormBase\tmRNA\t17497\t26643\t.\t-\t.\tID=Transcript:Y74C9A.4c;Parent=Gene:WBGene00022278;Name=Y74C9A.4c;wormpep=WP:CE49153;locus=rcor-1\r\n",
      "I\tWormBase\tmRNA\t17497\t26781\t.\t-\t.\tID=Transcript:Y74C9A.4a;Parent=Gene:WBGene00022278;Name=Y74C9A.4a;wormpep=WP:CE24662;locus=rcor-1\r\n",
      "I\tWormBase\tmRNA\t27591\t32544\t.\t-\t.\tID=Transcript:Y74C9A.5;Parent=Gene:WBGene00022279;Name=Y74C9A.5;wormpep=WP:CE40291;locus=sesn-1\r\n",
      "I\tWormBase\tmRNA\t43733\t44677\t.\t+\t.\tID=Transcript:Y74C9A.1;Parent=Gene:WBGene00022275;Name=Y74C9A.1;wormpep=WP:CE34428\r\n",
      "I\tWormBase\tmRNA\t47467\t49857\t.\t+\t.\tID=Transcript:Y48G1C.12;Parent=Gene:WBGene00044345;Name=Y48G1C.12;wormpep=WP:CE38647\r\n",
      "I\tWormBase\tmRNA\t49919\t54426\t.\t+\t.\tID=Transcript:Y48G1C.4a;Parent=Gene:WBGene00021677;Name=Y48G1C.4a;wormpep=WP:CE30021;locus=pgs-1\r\n",
      "I\tWormBase\tmRNA\t52292\t54360\t.\t+\t.\tID=Transcript:Y48G1C.4b;Parent=Gene:WBGene00021677;Name=Y48G1C.4b;wormpep=WP:CE49150;locus=pgs-1\r\n",
      "I\tWormBase\tmRNA\t55293\t64066\t.\t-\t.\tID=Transcript:Y48G1C.5;Parent=Gene:WBGene00021678;Name=Y48G1C.5;wormpep=WP:CE39437\r\n",
      "I\tWormBase\tmRNA\t71425\t81071\t.\t+\t.\tID=Transcript:Y48G1C.2b.2;Parent=Gene:WBGene00000812;Name=Y48G1C.2b.2;wormpep=WP:CE49183;locus=csk-1\r\n",
      "I\tWormBase\tmRNA\t71425\t81063\t.\t+\t.\tID=Transcript:Y48G1C.2b.1;Parent=Gene:WBGene00000812;Name=Y48G1C.2b.1;wormpep=WP:CE49183;locus=csk-1\r\n",
      "I\tWormBase\tmRNA\t71845\t80633\t.\t+\t.\tID=Transcript:Y48G1C.2a.1;Parent=Gene:WBGene00000812;Name=Y48G1C.2a.1;wormpep=WP:CE34405;locus=csk-1\r\n",
      "grep: write error\r\n"
     ]
    }
   ],
   "source": [
    "# The -P tells grep to use perl regular expressions which make things a bit easier otherwise you'll have\n",
    "# to escape some characters!\n",
    "\n",
    "# The pattern we're looking for is mRNA surrounded by tabs/white space\n",
    "! grep -P '\\tmRNA\\t' caenorhabditis_elegans.PRJNA13758.WBPS9.annotations.gff3 | head -n 20"
   ]
  },
  {
   "cell_type": "markdown",
   "metadata": {},
   "source": [
    "## Renaming FastQ Files\n",
    "\n",
    "The filenames for sequences are generally too many characters an too much information, which can be annoying when working with those files. To extract only the relevant information and shorten the filename I often construct a regular expression, coupled with some bash commands, to rename the files how I deem fit.\n"
   ]
  },
  {
   "cell_type": "code",
   "execution_count": 101,
   "metadata": {
    "collapsed": false
   },
   "outputs": [
    {
     "name": "stdout",
     "output_type": "stream",
     "text": [
      "\u001b[0m\u001b[38;5;34m000000000-AE52Y l01n01 flu mrt-pcr updated a1.341000000083f5.fastq.gz\u001b[0m*\r\n",
      "\u001b[38;5;34m000000000-AE52Y l01n01 flu mrt-pcr updated a2.3410000000847d.fastq.gz\u001b[0m*\r\n",
      "\u001b[38;5;34m000000000-AE52Y l01n01 flu mrt-pcr updated a3.341000000084f4.fastq.gz\u001b[0m*\r\n",
      "\u001b[38;5;34m000000000-AE52Y l01n01 flu mrt-pcr updated a4.3410000000857c.fastq.gz\u001b[0m*\r\n",
      "\u001b[38;5;34m000000000-AE52Y l01n01 flu mrt-pcr updated a5.341000000085f3.fastq.gz\u001b[0m*\r\n",
      "\u001b[38;5;34m000000000-AE52Y l01n01 flu mrt-pcr updated a6.3410000000867b.fastq.gz\u001b[0m*\r\n",
      "\u001b[38;5;34m000000000-AE52Y l01n01 flu mrt-pcr updated a7.341000000086f2.fastq.gz\u001b[0m*\r\n",
      "\u001b[38;5;34m000000000-AE52Y l01n01 flu mrt-pcr updated a8.3410000000877a.fastq.gz\u001b[0m*\r\n",
      "\u001b[38;5;34m000000000-AE52Y l01n01 flu mrt-pcr updated b1.34100000008403.fastq.gz\u001b[0m*\r\n",
      "\u001b[38;5;34m000000000-AE52Y l01n01 flu mrt-pcr updated b2.3410000000848a.fastq.gz\u001b[0m*\r\n",
      "\u001b[38;5;34m000000000-AE52Y l01n01 flu mrt-pcr updated b3.34100000008502.fastq.gz\u001b[0m*\r\n",
      "\u001b[38;5;34m000000000-AE52Y l01n01 flu mrt-pcr updated b4.34100000008589.fastq.gz\u001b[0m*\r\n",
      "\u001b[38;5;34m000000000-AE52Y l01n01 flu mrt-pcr updated b5.34100000008601.fastq.gz\u001b[0m*\r\n",
      "\u001b[38;5;34m000000000-AE52Y l01n01 flu mrt-pcr updated b6.34100000008688.fastq.gz\u001b[0m*\r\n",
      "\u001b[38;5;34m000000000-AE52Y l01n01 flu mrt-pcr updated b7.34100000008700.fastq.gz\u001b[0m*\r\n",
      "\u001b[38;5;34m000000000-AE52Y l01n01 flu mrt-pcr updated c1.34100000008410.fastq.gz\u001b[0m*\r\n",
      "\u001b[38;5;34m000000000-AE52Y l01n01 flu mrt-pcr updated c2.34100000008497.fastq.gz\u001b[0m*\r\n",
      "\u001b[38;5;34m000000000-AE52Y l01n01 flu mrt-pcr updated c3.3410000000851f.fastq.gz\u001b[0m*\r\n",
      "\u001b[38;5;34m000000000-AE52Y l01n01 flu mrt-pcr updated c4.34100000008596.fastq.gz\u001b[0m*\r\n",
      "\u001b[38;5;34m000000000-AE52Y l01n01 flu mrt-pcr updated c5.3410000000861e.fastq.gz\u001b[0m*\r\n",
      "\u001b[38;5;34m000000000-AE52Y l01n01 flu mrt-pcr updated c6.34100000008695.fastq.gz\u001b[0m*\r\n",
      "\u001b[38;5;34m000000000-AE52Y l01n01 flu mrt-pcr updated c7.3410000000871d.fastq.gz\u001b[0m*\r\n",
      "\u001b[38;5;34m000000000-AE52Y l01n01 flu mrt-pcr updated d1.3410000000842d.fastq.gz\u001b[0m*\r\n",
      "\u001b[38;5;34m000000000-AE52Y l01n01 flu mrt-pcr updated d2.341000000084a4.fastq.gz\u001b[0m*\r\n",
      "\u001b[38;5;34m000000000-AE52Y l01n01 flu mrt-pcr updated d3.3410000000852c.fastq.gz\u001b[0m*\r\n",
      "\u001b[38;5;34m000000000-AE52Y l01n01 flu mrt-pcr updated d4.341000000085a3.fastq.gz\u001b[0m*\r\n",
      "\u001b[38;5;34m000000000-AE52Y l01n01 flu mrt-pcr updated d5.3410000000862b.fastq.gz\u001b[0m*\r\n",
      "\u001b[38;5;34m000000000-AE52Y l01n01 flu mrt-pcr updated d6.341000000086a2.fastq.gz\u001b[0m*\r\n",
      "\u001b[38;5;34m000000000-AE52Y l01n01 flu mrt-pcr updated d7.3410000000872a.fastq.gz\u001b[0m*\r\n",
      "\u001b[38;5;34m000000000-AE52Y l01n01 flu mrt-pcr updated e1.3410000000843a.fastq.gz\u001b[0m*\r\n",
      "\u001b[38;5;34m000000000-AE52Y l01n01 flu mrt-pcr updated e2.341000000084b0.fastq.gz\u001b[0m*\r\n",
      "\u001b[38;5;34m000000000-AE52Y l01n01 flu mrt-pcr updated e3.34100000008539.fastq.gz\u001b[0m*\r\n",
      "\u001b[38;5;34m000000000-AE52Y l01n01 flu mrt-pcr updated e4.341000000085bf.fastq.gz\u001b[0m*\r\n",
      "\u001b[38;5;34m000000000-AE52Y l01n01 flu mrt-pcr updated e5.34100000008638.fastq.gz\u001b[0m*\r\n",
      "\u001b[38;5;34m000000000-AE52Y l01n01 flu mrt-pcr updated e6.341000000086be.fastq.gz\u001b[0m*\r\n",
      "\u001b[38;5;34m000000000-AE52Y l01n01 flu mrt-pcr updated e7.34100000008737.fastq.gz\u001b[0m*\r\n",
      "\u001b[38;5;34m000000000-AE52Y l01n01 flu mrt-pcr updated f1.34100000008447.fastq.gz\u001b[0m*\r\n",
      "\u001b[38;5;34m000000000-AE52Y l01n01 flu mrt-pcr updated f2.341000000084cd.fastq.gz\u001b[0m*\r\n",
      "\u001b[38;5;34m000000000-AE52Y l01n01 flu mrt-pcr updated f3.34100000008546.fastq.gz\u001b[0m*\r\n",
      "\u001b[38;5;34m000000000-AE52Y l01n01 flu mrt-pcr updated f4.341000000085cc.fastq.gz\u001b[0m*\r\n",
      "\u001b[38;5;34m000000000-AE52Y l01n01 flu mrt-pcr updated f5.34100000008645.fastq.gz\u001b[0m*\r\n",
      "\u001b[38;5;34m000000000-AE52Y l01n01 flu mrt-pcr updated f6.341000000086cb.fastq.gz\u001b[0m*\r\n",
      "\u001b[38;5;34m000000000-AE52Y l01n01 flu mrt-pcr updated f7.34100000008744.fastq.gz\u001b[0m*\r\n",
      "\u001b[38;5;34m000000000-AE52Y l01n01 flu mrt-pcr updated g1.34100000008454.fastq.gz\u001b[0m*\r\n",
      "\u001b[38;5;34m000000000-AE52Y l01n01 flu mrt-pcr updated g2.341000000084da.fastq.gz\u001b[0m*\r\n",
      "\u001b[38;5;34m000000000-AE52Y l01n01 flu mrt-pcr updated g3.34100000008553.fastq.gz\u001b[0m*\r\n",
      "\u001b[38;5;34m000000000-AE52Y l01n01 flu mrt-pcr updated g4.341000000085d9.fastq.gz\u001b[0m*\r\n",
      "\u001b[38;5;34m000000000-AE52Y l01n01 flu mrt-pcr updated g5.34100000008652.fastq.gz\u001b[0m*\r\n",
      "\u001b[38;5;34m000000000-AE52Y l01n01 flu mrt-pcr updated g6.341000000086d8.fastq.gz\u001b[0m*\r\n",
      "\u001b[38;5;34m000000000-AE52Y l01n01 flu mrt-pcr updated g7.34100000008751.fastq.gz\u001b[0m*\r\n",
      "\u001b[38;5;34m000000000-AE52Y l01n01 flu mrt-pcr updated h1.34100000008460.fastq.gz\u001b[0m*\r\n",
      "\u001b[38;5;34m000000000-AE52Y l01n01 flu mrt-pcr updated h2.341000000084e7.fastq.gz\u001b[0m*\r\n",
      "\u001b[38;5;34m000000000-AE52Y l01n01 flu mrt-pcr updated h3.3410000000856f.fastq.gz\u001b[0m*\r\n",
      "\u001b[38;5;34m000000000-AE52Y l01n01 flu mrt-pcr updated h4.341000000085e6.fastq.gz\u001b[0m*\r\n",
      "\u001b[38;5;34m000000000-AE52Y l01n01 flu mrt-pcr updated h5.3410000000866e.fastq.gz\u001b[0m*\r\n",
      "\u001b[38;5;34m000000000-AE52Y l01n01 flu mrt-pcr updated h6.341000000086e5.fastq.gz\u001b[0m*\r\n",
      "\u001b[38;5;34m000000000-AE52Y l01n01 flu mrt-pcr updated h7.3410000000876d.fastq.gz\u001b[0m*\r\n",
      "\u001b[38;5;34m000000000-AE52Y l01n02 flu mrt-pcr updated a1.342000000083f2.fastq.gz\u001b[0m*\r\n",
      "\u001b[38;5;34m000000000-AE52Y l01n02 flu mrt-pcr updated a2.3420000000847a.fastq.gz\u001b[0m*\r\n",
      "\u001b[38;5;34m000000000-AE52Y l01n02 flu mrt-pcr updated a3.342000000084f1.fastq.gz\u001b[0m*\r\n",
      "\u001b[38;5;34m000000000-AE52Y l01n02 flu mrt-pcr updated a4.34200000008579.fastq.gz\u001b[0m*\r\n",
      "\u001b[38;5;34m000000000-AE52Y l01n02 flu mrt-pcr updated a5.342000000085f0.fastq.gz\u001b[0m*\r\n",
      "\u001b[38;5;34m000000000-AE52Y l01n02 flu mrt-pcr updated a6.34200000008678.fastq.gz\u001b[0m*\r\n",
      "\u001b[38;5;34m000000000-AE52Y l01n02 flu mrt-pcr updated a7.342000000086ff.fastq.gz\u001b[0m*\r\n",
      "\u001b[38;5;34m000000000-AE52Y l01n02 flu mrt-pcr updated a8.34200000008777.fastq.gz\u001b[0m*\r\n",
      "\u001b[38;5;34m000000000-AE52Y l01n02 flu mrt-pcr updated b1.34200000008400.fastq.gz\u001b[0m*\r\n",
      "\u001b[38;5;34m000000000-AE52Y l01n02 flu mrt-pcr updated b2.34200000008487.fastq.gz\u001b[0m*\r\n",
      "\u001b[38;5;34m000000000-AE52Y l01n02 flu mrt-pcr updated b3.3420000000850f.fastq.gz\u001b[0m*\r\n",
      "\u001b[38;5;34m000000000-AE52Y l01n02 flu mrt-pcr updated b4.34200000008586.fastq.gz\u001b[0m*\r\n",
      "\u001b[38;5;34m000000000-AE52Y l01n02 flu mrt-pcr updated b5.3420000000860e.fastq.gz\u001b[0m*\r\n",
      "\u001b[38;5;34m000000000-AE52Y l01n02 flu mrt-pcr updated b6.34200000008685.fastq.gz\u001b[0m*\r\n",
      "\u001b[38;5;34m000000000-AE52Y l01n02 flu mrt-pcr updated b7.3420000000870d.fastq.gz\u001b[0m*\r\n",
      "\u001b[38;5;34m000000000-AE52Y l01n02 flu mrt-pcr updated c1.3420000000841d.fastq.gz\u001b[0m*\r\n",
      "\u001b[38;5;34m000000000-AE52Y l01n02 flu mrt-pcr updated c2.34200000008494.fastq.gz\u001b[0m*\r\n",
      "\u001b[38;5;34m000000000-AE52Y l01n02 flu mrt-pcr updated c3.3420000000851c.fastq.gz\u001b[0m*\r\n",
      "\u001b[38;5;34m000000000-AE52Y l01n02 flu mrt-pcr updated c4.34200000008593.fastq.gz\u001b[0m*\r\n",
      "\u001b[38;5;34m000000000-AE52Y l01n02 flu mrt-pcr updated c5.3420000000861b.fastq.gz\u001b[0m*\r\n",
      "\u001b[38;5;34m000000000-AE52Y l01n02 flu mrt-pcr updated c6.34200000008692.fastq.gz\u001b[0m*\r\n",
      "\u001b[38;5;34m000000000-AE52Y l01n02 flu mrt-pcr updated c7.3420000000871a.fastq.gz\u001b[0m*\r\n",
      "\u001b[38;5;34m000000000-AE52Y l01n02 flu mrt-pcr updated d1.3420000000842a.fastq.gz\u001b[0m*\r\n",
      "\u001b[38;5;34m000000000-AE52Y l01n02 flu mrt-pcr updated d2.342000000084a1.fastq.gz\u001b[0m*\r\n",
      "\u001b[38;5;34m000000000-AE52Y l01n02 flu mrt-pcr updated d3.34200000008529.fastq.gz\u001b[0m*\r\n",
      "\u001b[38;5;34m000000000-AE52Y l01n02 flu mrt-pcr updated d4.342000000085a0.fastq.gz\u001b[0m*\r\n",
      "\u001b[38;5;34m000000000-AE52Y l01n02 flu mrt-pcr updated d5.34200000008628.fastq.gz\u001b[0m*\r\n",
      "\u001b[38;5;34m000000000-AE52Y l01n02 flu mrt-pcr updated d6.342000000086af.fastq.gz\u001b[0m*\r\n",
      "\u001b[38;5;34m000000000-AE52Y l01n02 flu mrt-pcr updated d7.34200000008727.fastq.gz\u001b[0m*\r\n",
      "\u001b[38;5;34m000000000-AE52Y l01n02 flu mrt-pcr updated e1.34200000008437.fastq.gz\u001b[0m*\r\n",
      "\u001b[38;5;34m000000000-AE52Y l01n02 flu mrt-pcr updated e2.342000000084bd.fastq.gz\u001b[0m*\r\n",
      "\u001b[38;5;34m000000000-AE52Y l01n02 flu mrt-pcr updated e3.34200000008536.fastq.gz\u001b[0m*\r\n",
      "\u001b[38;5;34m000000000-AE52Y l01n02 flu mrt-pcr updated e4.342000000085bc.fastq.gz\u001b[0m*\r\n",
      "\u001b[38;5;34m000000000-AE52Y l01n02 flu mrt-pcr updated e5.34200000008635.fastq.gz\u001b[0m*\r\n",
      "\u001b[38;5;34m000000000-AE52Y l01n02 flu mrt-pcr updated e6.342000000086bb.fastq.gz\u001b[0m*\r\n",
      "\u001b[38;5;34m000000000-AE52Y l01n02 flu mrt-pcr updated e7.34200000008734.fastq.gz\u001b[0m*\r\n",
      "\u001b[38;5;34m000000000-AE52Y l01n02 flu mrt-pcr updated f1.34200000008444.fastq.gz\u001b[0m*\r\n",
      "\u001b[38;5;34m000000000-AE52Y l01n02 flu mrt-pcr updated f2.342000000084ca.fastq.gz\u001b[0m*\r\n",
      "\u001b[38;5;34m000000000-AE52Y l01n02 flu mrt-pcr updated f3.34200000008543.fastq.gz\u001b[0m*\r\n",
      "\u001b[38;5;34m000000000-AE52Y l01n02 flu mrt-pcr updated f4.342000000085c9.fastq.gz\u001b[0m*\r\n",
      "\u001b[38;5;34m000000000-AE52Y l01n02 flu mrt-pcr updated f5.34200000008642.fastq.gz\u001b[0m*\r\n",
      "\u001b[38;5;34m000000000-AE52Y l01n02 flu mrt-pcr updated f6.342000000086c8.fastq.gz\u001b[0m*\r\n",
      "\u001b[38;5;34m000000000-AE52Y l01n02 flu mrt-pcr updated f7.34200000008741.fastq.gz\u001b[0m*\r\n",
      "\u001b[38;5;34m000000000-AE52Y l01n02 flu mrt-pcr updated g1.34200000008451.fastq.gz\u001b[0m*\r\n",
      "\u001b[38;5;34m000000000-AE52Y l01n02 flu mrt-pcr updated g2.342000000084d7.fastq.gz\u001b[0m*\r\n",
      "\u001b[38;5;34m000000000-AE52Y l01n02 flu mrt-pcr updated g3.34200000008550.fastq.gz\u001b[0m*\r\n",
      "\u001b[38;5;34m000000000-AE52Y l01n02 flu mrt-pcr updated g4.342000000085d6.fastq.gz\u001b[0m*\r\n",
      "\u001b[38;5;34m000000000-AE52Y l01n02 flu mrt-pcr updated g5.3420000000865f.fastq.gz\u001b[0m*\r\n",
      "\u001b[38;5;34m000000000-AE52Y l01n02 flu mrt-pcr updated g6.342000000086d5.fastq.gz\u001b[0m*\r\n",
      "\u001b[38;5;34m000000000-AE52Y l01n02 flu mrt-pcr updated g7.3420000000875e.fastq.gz\u001b[0m*\r\n",
      "\u001b[38;5;34m000000000-AE52Y l01n02 flu mrt-pcr updated h1.3420000000846d.fastq.gz\u001b[0m*\r\n",
      "\u001b[38;5;34m000000000-AE52Y l01n02 flu mrt-pcr updated h2.342000000084e4.fastq.gz\u001b[0m*\r\n",
      "\u001b[38;5;34m000000000-AE52Y l01n02 flu mrt-pcr updated h3.3420000000856c.fastq.gz\u001b[0m*\r\n",
      "\u001b[38;5;34m000000000-AE52Y l01n02 flu mrt-pcr updated h4.342000000085e3.fastq.gz\u001b[0m*\r\n",
      "\u001b[38;5;34m000000000-AE52Y l01n02 flu mrt-pcr updated h5.3420000000866b.fastq.gz\u001b[0m*\r\n",
      "\u001b[38;5;34m000000000-AE52Y l01n02 flu mrt-pcr updated h6.342000000086e2.fastq.gz\u001b[0m*\r\n",
      "\u001b[38;5;34m000000000-AE52Y l01n02 flu mrt-pcr updated h7.3420000000876a.fastq.gz\u001b[0m*\r\n",
      "\u001b[38;5;34ma1.r2.fastq.gz\u001b[0m*\r\n",
      "\u001b[38;5;34ma2.r2.fastq.gz\u001b[0m*\r\n",
      "\u001b[38;5;34ma3.r2.fastq.gz\u001b[0m*\r\n",
      "\u001b[38;5;34ma4.r2.fastq.gz\u001b[0m*\r\n",
      "\u001b[38;5;34ma5.r2.fastq.gz\u001b[0m*\r\n",
      "\u001b[38;5;34ma6.r2.fastq.gz\u001b[0m*\r\n",
      "\u001b[38;5;34ma7.r2.fastq.gz\u001b[0m*\r\n",
      "\u001b[38;5;34ma8.r2.fastq.gz\u001b[0m*\r\n",
      "\u001b[38;5;34mb1.r2.fastq.gz\u001b[0m*\r\n",
      "\u001b[38;5;34mb2.r2.fastq.gz\u001b[0m*\r\n",
      "\u001b[38;5;34mb3.r2.fastq.gz\u001b[0m*\r\n",
      "\u001b[38;5;34mb4.r1.fastq.gz\u001b[0m*\r\n",
      "\u001b[38;5;34mb4.r2.fastq.gz\u001b[0m*\r\n",
      "\u001b[38;5;34mb5.r1.fastq.gz\u001b[0m*\r\n",
      "\u001b[38;5;34mb5.r2.fastq.gz\u001b[0m*\r\n",
      "\u001b[38;5;34mb6.r1.fastq.gz\u001b[0m*\r\n",
      "\u001b[38;5;34mb6.r2.fastq.gz\u001b[0m*\r\n",
      "\u001b[38;5;34mb7.r1.fastq.gz\u001b[0m*\r\n",
      "\u001b[38;5;34mb7.r2.fastq.gz\u001b[0m*\r\n",
      "\u001b[38;5;34mc1.r1.fastq.gz\u001b[0m*\r\n",
      "\u001b[38;5;34mc1.r2.fastq.gz\u001b[0m*\r\n",
      "\u001b[38;5;34mc2.r1.fastq.gz\u001b[0m*\r\n",
      "\u001b[38;5;34mc2.r2.fastq.gz\u001b[0m*\r\n",
      "\u001b[38;5;34mc3.r1.fastq.gz\u001b[0m*\r\n",
      "\u001b[38;5;34mc3.r2.fastq.gz\u001b[0m*\r\n",
      "\u001b[38;5;34mc4.r1.fastq.gz\u001b[0m*\r\n",
      "\u001b[38;5;34mc4.r2.fastq.gz\u001b[0m*\r\n",
      "\u001b[38;5;34mc5.r1.fastq.gz\u001b[0m*\r\n",
      "\u001b[38;5;34mc5.r2.fastq.gz\u001b[0m*\r\n",
      "\u001b[38;5;34mc6.r1.fastq.gz\u001b[0m*\r\n",
      "\u001b[38;5;34mc6.r2.fastq.gz\u001b[0m*\r\n",
      "\u001b[38;5;34mc7.r1.fastq.gz\u001b[0m*\r\n",
      "\u001b[38;5;34mc7.r2.fastq.gz\u001b[0m*\r\n",
      "\u001b[38;5;34md1.r1.fastq.gz\u001b[0m*\r\n",
      "\u001b[38;5;34md1.r2.fastq.gz\u001b[0m*\r\n",
      "\u001b[38;5;34md2.r1.fastq.gz\u001b[0m*\r\n",
      "\u001b[38;5;34md2.r2.fastq.gz\u001b[0m*\r\n",
      "\u001b[38;5;34md3.r1.fastq.gz\u001b[0m*\r\n",
      "\u001b[38;5;34md3.r2.fastq.gz\u001b[0m*\r\n",
      "\u001b[38;5;34md4.r1.fastq.gz\u001b[0m*\r\n",
      "\u001b[38;5;34md4.r2.fastq.gz\u001b[0m*\r\n",
      "\u001b[38;5;34md5.r1.fastq.gz\u001b[0m*\r\n",
      "\u001b[38;5;34md5.r2.fastq.gz\u001b[0m*\r\n",
      "\u001b[38;5;34md6.r1.fastq.gz\u001b[0m*\r\n",
      "\u001b[38;5;34md6.r2.fastq.gz\u001b[0m*\r\n",
      "\u001b[38;5;34md7.r1.fastq.gz\u001b[0m*\r\n",
      "\u001b[38;5;34md7.r2.fastq.gz\u001b[0m*\r\n",
      "\u001b[38;5;34me1.r1.fastq.gz\u001b[0m*\r\n",
      "\u001b[38;5;34me1.r2.fastq.gz\u001b[0m*\r\n",
      "\u001b[38;5;34me2.r1.fastq.gz\u001b[0m*\r\n",
      "\u001b[38;5;34me2.r2.fastq.gz\u001b[0m*\r\n",
      "\u001b[38;5;34me3.r1.fastq.gz\u001b[0m*\r\n",
      "\u001b[38;5;34me3.r2.fastq.gz\u001b[0m*\r\n",
      "\u001b[38;5;34me4.r1.fastq.gz\u001b[0m*\r\n",
      "\u001b[38;5;34me4.r2.fastq.gz\u001b[0m*\r\n",
      "\u001b[38;5;34me5.r1.fastq.gz\u001b[0m*\r\n",
      "\u001b[38;5;34me5.r2.fastq.gz\u001b[0m*\r\n",
      "\u001b[38;5;34me6.r1.fastq.gz\u001b[0m*\r\n",
      "\u001b[38;5;34me6.r2.fastq.gz\u001b[0m*\r\n",
      "\u001b[38;5;34me7.r1.fastq.gz\u001b[0m*\r\n",
      "\u001b[38;5;34me7.r2.fastq.gz\u001b[0m*\r\n",
      "\u001b[38;5;34mf1.r1.fastq.gz\u001b[0m*\r\n",
      "\u001b[38;5;34mf1.r2.fastq.gz\u001b[0m*\r\n",
      "\u001b[38;5;34mf2.r1.fastq.gz\u001b[0m*\r\n",
      "\u001b[38;5;34mf2.r2.fastq.gz\u001b[0m*\r\n",
      "\u001b[38;5;34mf3.r1.fastq.gz\u001b[0m*\r\n",
      "\u001b[38;5;34mf3.r2.fastq.gz\u001b[0m*\r\n",
      "\u001b[38;5;34mf4.r1.fastq.gz\u001b[0m*\r\n",
      "\u001b[38;5;34mf4.r2.fastq.gz\u001b[0m*\r\n",
      "\u001b[38;5;34mf5.r1.fastq.gz\u001b[0m*\r\n",
      "\u001b[38;5;34mf5.r2.fastq.gz\u001b[0m*\r\n",
      "\u001b[38;5;34mf6.r1.fastq.gz\u001b[0m*\r\n",
      "\u001b[38;5;34mf6.r2.fastq.gz\u001b[0m*\r\n",
      "\u001b[38;5;34mf7.r1.fastq.gz\u001b[0m*\r\n",
      "\u001b[38;5;34mf7.r2.fastq.gz\u001b[0m*\r\n",
      "\u001b[38;5;34mg1.r1.fastq.gz\u001b[0m*\r\n",
      "\u001b[38;5;34mg1.r2.fastq.gz\u001b[0m*\r\n",
      "\u001b[38;5;34mg2.r1.fastq.gz\u001b[0m*\r\n",
      "\u001b[38;5;34mg2.r2.fastq.gz\u001b[0m*\r\n",
      "\u001b[38;5;34mg3.r1.fastq.gz\u001b[0m*\r\n",
      "\u001b[38;5;34mg3.r2.fastq.gz\u001b[0m*\r\n",
      "\u001b[38;5;34mg4.r1.fastq.gz\u001b[0m*\r\n",
      "\u001b[38;5;34mg4.r2.fastq.gz\u001b[0m*\r\n",
      "\u001b[38;5;34mg5.r1.fastq.gz\u001b[0m*\r\n",
      "\u001b[38;5;34mg5.r2.fastq.gz\u001b[0m*\r\n",
      "\u001b[38;5;34mg6.r1.fastq.gz\u001b[0m*\r\n",
      "\u001b[38;5;34mg6.r2.fastq.gz\u001b[0m*\r\n",
      "\u001b[38;5;34mg7.r1.fastq.gz\u001b[0m*\r\n",
      "\u001b[38;5;34mg7.r2.fastq.gz\u001b[0m*\r\n",
      "\u001b[38;5;34mh1.r1.fastq.gz\u001b[0m*\r\n",
      "\u001b[38;5;34mh1.r2.fastq.gz\u001b[0m*\r\n",
      "\u001b[38;5;34mh2.r1.fastq.gz\u001b[0m*\r\n",
      "\u001b[38;5;34mh2.r2.fastq.gz\u001b[0m*\r\n",
      "\u001b[38;5;34mh3.r1.fastq.gz\u001b[0m*\r\n",
      "\u001b[38;5;34mh3.r2.fastq.gz\u001b[0m*\r\n",
      "\u001b[38;5;34mh4.r1.fastq.gz\u001b[0m*\r\n",
      "\u001b[38;5;34mh4.r2.fastq.gz\u001b[0m*\r\n",
      "\u001b[38;5;34mh5.r1.fastq.gz\u001b[0m*\r\n",
      "\u001b[38;5;34mh5.r2.fastq.gz\u001b[0m*\r\n",
      "\u001b[38;5;34mh6.r1.fastq.gz\u001b[0m*\r\n",
      "\u001b[38;5;34mh6.r2.fastq.gz\u001b[0m*\r\n",
      "\u001b[38;5;34mh7.r1.fastq.gz\u001b[0m*\r\n",
      "\u001b[38;5;34mh7.r2.fastq.gz\u001b[0m*\r\n"
     ]
    }
   ],
   "source": [
    "ls /home/at120/badas/2015-03-11_AE52Y-redo"
   ]
  },
  {
   "cell_type": "markdown",
   "metadata": {},
   "source": [
    "There is a lot of information here, some of which is intelligible only to Tubo. The only information that I would like to retain are the sample names, consisting of **one lowercase letter followed by one number** and the pairing information, which is **n0 and then a 1 or a 2**.\n",
    "\n",
    "What I usually do to get started is to work with one filename and construct the pattern from that. Regular expressions are read from left to right, so we should start by grabbing the first bit of information we want, which is the pair information:"
   ]
  },
  {
   "cell_type": "code",
   "execution_count": 102,
   "metadata": {
    "collapsed": false
   },
   "outputs": [
    {
     "name": "stdout",
     "output_type": "stream",
     "text": [
      "2\n"
     ]
    }
   ],
   "source": [
    "%%bash\n",
    "echo \"000000000-AE52Y l01n02 flu mrt-pcr updated f3.34200000008543.fastq.gz\" | perl -pe 's/^.+n0([12]).+/$1/g'"
   ]
  },
  {
   "cell_type": "markdown",
   "metadata": {},
   "source": [
    "Next would be to grab the sample name:"
   ]
  },
  {
   "cell_type": "code",
   "execution_count": 103,
   "metadata": {
    "collapsed": false
   },
   "outputs": [
    {
     "name": "stdout",
     "output_type": "stream",
     "text": [
      "2f3\n"
     ]
    }
   ],
   "source": [
    "%%bash\n",
    "\n",
    "# It's good to be very specific with regular expressions for multiple reasons.\n",
    "# 1) It limits the scope of the regular expression\n",
    "# 2) It makes it easier to read later.\n",
    "# So I do not NEED to specify 'flu' but it makes for fewer instructions and is more human readable.\n",
    "\n",
    "echo \"000000000-AE52Y l01n02 flu mrt-pcr updated f3.34200000008543.fastq.gz\" \\\n",
    "| perl -pe 's/^.+n0([12])\\sflu.+\\s([a-z]\\d)\\..+/$1$2/g'"
   ]
  },
  {
   "cell_type": "markdown",
   "metadata": {},
   "source": [
    "Lastly, the sample name and file extension and rearrange the caputred patterns:"
   ]
  },
  {
   "cell_type": "code",
   "execution_count": 104,
   "metadata": {
    "collapsed": false
   },
   "outputs": [
    {
     "name": "stdout",
     "output_type": "stream",
     "text": [
      "f3.r2.fastq.gz\n"
     ]
    }
   ],
   "source": [
    "%%bash\n",
    "echo \"000000000-AE52Y l01n02 flu mrt-pcr updated f3.34200000008543.fastq.gz\" \\\n",
    "| perl -pe 's/^.+n0([12])\\sflu.+\\s([a-z]\\d)\\..+(fastq.gz)$/$2.r$1.$3/g'"
   ]
  },
  {
   "cell_type": "markdown",
   "metadata": {},
   "source": [
    "Now to wrap it up in a for loop and invoke a copy command:"
   ]
  },
  {
   "cell_type": "code",
   "execution_count": 105,
   "metadata": {
    "collapsed": false
   },
   "outputs": [
    {
     "name": "stdout",
     "output_type": "stream",
     "text": [
      "000000000-AE52Y l01n01 flu mrt-pcr updated a1.341000000083f5.fastq.gz\n",
      "000000000-AE52Y l01n01 flu mrt-pcr updated a2.3410000000847d.fastq.gz\n",
      "000000000-AE52Y l01n01 flu mrt-pcr updated a3.341000000084f4.fastq.gz\n",
      "000000000-AE52Y l01n01 flu mrt-pcr updated a4.3410000000857c.fastq.gz\n",
      "000000000-AE52Y l01n01 flu mrt-pcr updated a5.341000000085f3.fastq.gz\n",
      "000000000-AE52Y l01n01 flu mrt-pcr updated a6.3410000000867b.fastq.gz\n",
      "000000000-AE52Y l01n01 flu mrt-pcr updated a7.341000000086f2.fastq.gz\n",
      "000000000-AE52Y l01n01 flu mrt-pcr updated a8.3410000000877a.fastq.gz\n",
      "000000000-AE52Y l01n01 flu mrt-pcr updated b1.34100000008403.fastq.gz\n",
      "000000000-AE52Y l01n01 flu mrt-pcr updated b2.3410000000848a.fastq.gz\n",
      "000000000-AE52Y l01n01 flu mrt-pcr updated b3.34100000008502.fastq.gz\n",
      "000000000-AE52Y l01n01 flu mrt-pcr updated b4.34100000008589.fastq.gz\n",
      "000000000-AE52Y l01n01 flu mrt-pcr updated b5.34100000008601.fastq.gz\n",
      "000000000-AE52Y l01n01 flu mrt-pcr updated b6.34100000008688.fastq.gz\n",
      "000000000-AE52Y l01n01 flu mrt-pcr updated b7.34100000008700.fastq.gz\n",
      "000000000-AE52Y l01n01 flu mrt-pcr updated c1.34100000008410.fastq.gz\n",
      "000000000-AE52Y l01n01 flu mrt-pcr updated c2.34100000008497.fastq.gz\n",
      "000000000-AE52Y l01n01 flu mrt-pcr updated c3.3410000000851f.fastq.gz\n",
      "000000000-AE52Y l01n01 flu mrt-pcr updated c4.34100000008596.fastq.gz\n",
      "000000000-AE52Y l01n01 flu mrt-pcr updated c5.3410000000861e.fastq.gz\n",
      "000000000-AE52Y l01n01 flu mrt-pcr updated c6.34100000008695.fastq.gz\n",
      "000000000-AE52Y l01n01 flu mrt-pcr updated c7.3410000000871d.fastq.gz\n",
      "000000000-AE52Y l01n01 flu mrt-pcr updated d1.3410000000842d.fastq.gz\n",
      "000000000-AE52Y l01n01 flu mrt-pcr updated d2.341000000084a4.fastq.gz\n",
      "000000000-AE52Y l01n01 flu mrt-pcr updated d3.3410000000852c.fastq.gz\n",
      "000000000-AE52Y l01n01 flu mrt-pcr updated d4.341000000085a3.fastq.gz\n",
      "000000000-AE52Y l01n01 flu mrt-pcr updated d5.3410000000862b.fastq.gz\n",
      "000000000-AE52Y l01n01 flu mrt-pcr updated d6.341000000086a2.fastq.gz\n",
      "000000000-AE52Y l01n01 flu mrt-pcr updated d7.3410000000872a.fastq.gz\n",
      "000000000-AE52Y l01n01 flu mrt-pcr updated e1.3410000000843a.fastq.gz\n",
      "000000000-AE52Y l01n01 flu mrt-pcr updated e2.341000000084b0.fastq.gz\n",
      "000000000-AE52Y l01n01 flu mrt-pcr updated e3.34100000008539.fastq.gz\n",
      "000000000-AE52Y l01n01 flu mrt-pcr updated e4.341000000085bf.fastq.gz\n",
      "000000000-AE52Y l01n01 flu mrt-pcr updated e5.34100000008638.fastq.gz\n",
      "000000000-AE52Y l01n01 flu mrt-pcr updated e6.341000000086be.fastq.gz\n",
      "000000000-AE52Y l01n01 flu mrt-pcr updated e7.34100000008737.fastq.gz\n",
      "000000000-AE52Y l01n01 flu mrt-pcr updated f1.34100000008447.fastq.gz\n",
      "000000000-AE52Y l01n01 flu mrt-pcr updated f2.341000000084cd.fastq.gz\n",
      "000000000-AE52Y l01n01 flu mrt-pcr updated f3.34100000008546.fastq.gz\n",
      "000000000-AE52Y l01n01 flu mrt-pcr updated f4.341000000085cc.fastq.gz\n",
      "000000000-AE52Y l01n01 flu mrt-pcr updated f5.34100000008645.fastq.gz\n",
      "000000000-AE52Y l01n01 flu mrt-pcr updated f6.341000000086cb.fastq.gz\n",
      "000000000-AE52Y l01n01 flu mrt-pcr updated f7.34100000008744.fastq.gz\n",
      "000000000-AE52Y l01n01 flu mrt-pcr updated g1.34100000008454.fastq.gz\n",
      "000000000-AE52Y l01n01 flu mrt-pcr updated g2.341000000084da.fastq.gz\n",
      "000000000-AE52Y l01n01 flu mrt-pcr updated g3.34100000008553.fastq.gz\n",
      "000000000-AE52Y l01n01 flu mrt-pcr updated g4.341000000085d9.fastq.gz\n",
      "000000000-AE52Y l01n01 flu mrt-pcr updated g5.34100000008652.fastq.gz\n",
      "000000000-AE52Y l01n01 flu mrt-pcr updated g6.341000000086d8.fastq.gz\n",
      "000000000-AE52Y l01n01 flu mrt-pcr updated g7.34100000008751.fastq.gz\n",
      "000000000-AE52Y l01n01 flu mrt-pcr updated h1.34100000008460.fastq.gz\n",
      "000000000-AE52Y l01n01 flu mrt-pcr updated h2.341000000084e7.fastq.gz\n",
      "000000000-AE52Y l01n01 flu mrt-pcr updated h3.3410000000856f.fastq.gz\n",
      "000000000-AE52Y l01n01 flu mrt-pcr updated h4.341000000085e6.fastq.gz\n",
      "000000000-AE52Y l01n01 flu mrt-pcr updated h5.3410000000866e.fastq.gz\n",
      "000000000-AE52Y l01n01 flu mrt-pcr updated h6.341000000086e5.fastq.gz\n",
      "000000000-AE52Y l01n01 flu mrt-pcr updated h7.3410000000876d.fastq.gz\n",
      "000000000-AE52Y l01n02 flu mrt-pcr updated a1.342000000083f2.fastq.gz\n",
      "000000000-AE52Y l01n02 flu mrt-pcr updated a2.3420000000847a.fastq.gz\n",
      "000000000-AE52Y l01n02 flu mrt-pcr updated a3.342000000084f1.fastq.gz\n",
      "000000000-AE52Y l01n02 flu mrt-pcr updated a4.34200000008579.fastq.gz\n",
      "000000000-AE52Y l01n02 flu mrt-pcr updated a5.342000000085f0.fastq.gz\n",
      "000000000-AE52Y l01n02 flu mrt-pcr updated a6.34200000008678.fastq.gz\n",
      "000000000-AE52Y l01n02 flu mrt-pcr updated a7.342000000086ff.fastq.gz\n",
      "000000000-AE52Y l01n02 flu mrt-pcr updated a8.34200000008777.fastq.gz\n",
      "000000000-AE52Y l01n02 flu mrt-pcr updated b1.34200000008400.fastq.gz\n",
      "000000000-AE52Y l01n02 flu mrt-pcr updated b2.34200000008487.fastq.gz\n",
      "000000000-AE52Y l01n02 flu mrt-pcr updated b3.3420000000850f.fastq.gz\n",
      "000000000-AE52Y l01n02 flu mrt-pcr updated b4.34200000008586.fastq.gz\n",
      "000000000-AE52Y l01n02 flu mrt-pcr updated b5.3420000000860e.fastq.gz\n",
      "000000000-AE52Y l01n02 flu mrt-pcr updated b6.34200000008685.fastq.gz\n",
      "000000000-AE52Y l01n02 flu mrt-pcr updated b7.3420000000870d.fastq.gz\n",
      "000000000-AE52Y l01n02 flu mrt-pcr updated c1.3420000000841d.fastq.gz\n",
      "000000000-AE52Y l01n02 flu mrt-pcr updated c2.34200000008494.fastq.gz\n",
      "000000000-AE52Y l01n02 flu mrt-pcr updated c3.3420000000851c.fastq.gz\n",
      "000000000-AE52Y l01n02 flu mrt-pcr updated c4.34200000008593.fastq.gz\n",
      "000000000-AE52Y l01n02 flu mrt-pcr updated c5.3420000000861b.fastq.gz\n",
      "000000000-AE52Y l01n02 flu mrt-pcr updated c6.34200000008692.fastq.gz\n",
      "000000000-AE52Y l01n02 flu mrt-pcr updated c7.3420000000871a.fastq.gz\n",
      "000000000-AE52Y l01n02 flu mrt-pcr updated d1.3420000000842a.fastq.gz\n",
      "000000000-AE52Y l01n02 flu mrt-pcr updated d2.342000000084a1.fastq.gz\n",
      "000000000-AE52Y l01n02 flu mrt-pcr updated d3.34200000008529.fastq.gz\n",
      "000000000-AE52Y l01n02 flu mrt-pcr updated d4.342000000085a0.fastq.gz\n",
      "000000000-AE52Y l01n02 flu mrt-pcr updated d5.34200000008628.fastq.gz\n",
      "000000000-AE52Y l01n02 flu mrt-pcr updated d6.342000000086af.fastq.gz\n",
      "000000000-AE52Y l01n02 flu mrt-pcr updated d7.34200000008727.fastq.gz\n",
      "000000000-AE52Y l01n02 flu mrt-pcr updated e1.34200000008437.fastq.gz\n",
      "000000000-AE52Y l01n02 flu mrt-pcr updated e2.342000000084bd.fastq.gz\n",
      "000000000-AE52Y l01n02 flu mrt-pcr updated e3.34200000008536.fastq.gz\n",
      "000000000-AE52Y l01n02 flu mrt-pcr updated e4.342000000085bc.fastq.gz\n",
      "000000000-AE52Y l01n02 flu mrt-pcr updated e5.34200000008635.fastq.gz\n",
      "000000000-AE52Y l01n02 flu mrt-pcr updated e6.342000000086bb.fastq.gz\n",
      "000000000-AE52Y l01n02 flu mrt-pcr updated e7.34200000008734.fastq.gz\n",
      "000000000-AE52Y l01n02 flu mrt-pcr updated f1.34200000008444.fastq.gz\n",
      "000000000-AE52Y l01n02 flu mrt-pcr updated f2.342000000084ca.fastq.gz\n",
      "000000000-AE52Y l01n02 flu mrt-pcr updated f3.34200000008543.fastq.gz\n",
      "000000000-AE52Y l01n02 flu mrt-pcr updated f4.342000000085c9.fastq.gz\n",
      "000000000-AE52Y l01n02 flu mrt-pcr updated f5.34200000008642.fastq.gz\n",
      "000000000-AE52Y l01n02 flu mrt-pcr updated f6.342000000086c8.fastq.gz\n",
      "000000000-AE52Y l01n02 flu mrt-pcr updated f7.34200000008741.fastq.gz\n",
      "000000000-AE52Y l01n02 flu mrt-pcr updated g1.34200000008451.fastq.gz\n",
      "000000000-AE52Y l01n02 flu mrt-pcr updated g2.342000000084d7.fastq.gz\n",
      "000000000-AE52Y l01n02 flu mrt-pcr updated g3.34200000008550.fastq.gz\n",
      "000000000-AE52Y l01n02 flu mrt-pcr updated g4.342000000085d6.fastq.gz\n",
      "000000000-AE52Y l01n02 flu mrt-pcr updated g5.3420000000865f.fastq.gz\n",
      "000000000-AE52Y l01n02 flu mrt-pcr updated g6.342000000086d5.fastq.gz\n",
      "000000000-AE52Y l01n02 flu mrt-pcr updated g7.3420000000875e.fastq.gz\n",
      "000000000-AE52Y l01n02 flu mrt-pcr updated h1.3420000000846d.fastq.gz\n",
      "000000000-AE52Y l01n02 flu mrt-pcr updated h2.342000000084e4.fastq.gz\n",
      "000000000-AE52Y l01n02 flu mrt-pcr updated h3.3420000000856c.fastq.gz\n",
      "000000000-AE52Y l01n02 flu mrt-pcr updated h4.342000000085e3.fastq.gz\n",
      "000000000-AE52Y l01n02 flu mrt-pcr updated h5.3420000000866b.fastq.gz\n",
      "000000000-AE52Y l01n02 flu mrt-pcr updated h6.342000000086e2.fastq.gz\n",
      "000000000-AE52Y l01n02 flu mrt-pcr updated h7.3420000000876a.fastq.gz\n",
      "a1.r1.fastq.gz\n",
      "a1.r2.fastq.gz\n",
      "a2.r1.fastq.gz\n",
      "a2.r2.fastq.gz\n",
      "a3.r1.fastq.gz\n",
      "a3.r2.fastq.gz\n",
      "a4.r1.fastq.gz\n",
      "a4.r2.fastq.gz\n",
      "a5.r1.fastq.gz\n",
      "a5.r2.fastq.gz\n",
      "a6.r1.fastq.gz\n",
      "a6.r2.fastq.gz\n",
      "a7.r1.fastq.gz\n",
      "a7.r2.fastq.gz\n",
      "a8.r1.fastq.gz\n",
      "a8.r2.fastq.gz\n",
      "b1.r1.fastq.gz\n",
      "b1.r2.fastq.gz\n",
      "b2.r1.fastq.gz\n",
      "b2.r2.fastq.gz\n",
      "b3.r1.fastq.gz\n",
      "b3.r2.fastq.gz\n",
      "b4.r1.fastq.gz\n",
      "b4.r2.fastq.gz\n",
      "b5.r1.fastq.gz\n",
      "b5.r2.fastq.gz\n",
      "b6.r1.fastq.gz\n",
      "b6.r2.fastq.gz\n",
      "b7.r1.fastq.gz\n",
      "b7.r2.fastq.gz\n",
      "c1.r1.fastq.gz\n",
      "c1.r2.fastq.gz\n",
      "c2.r1.fastq.gz\n",
      "c2.r2.fastq.gz\n",
      "c3.r1.fastq.gz\n",
      "c3.r2.fastq.gz\n",
      "c4.r1.fastq.gz\n",
      "c4.r2.fastq.gz\n",
      "c5.r1.fastq.gz\n",
      "c5.r2.fastq.gz\n",
      "c6.r1.fastq.gz\n",
      "c6.r2.fastq.gz\n",
      "c7.r1.fastq.gz\n",
      "c7.r2.fastq.gz\n",
      "d1.r1.fastq.gz\n",
      "d1.r2.fastq.gz\n",
      "d2.r1.fastq.gz\n",
      "d2.r2.fastq.gz\n",
      "d3.r1.fastq.gz\n",
      "d3.r2.fastq.gz\n",
      "d4.r1.fastq.gz\n",
      "d4.r2.fastq.gz\n",
      "d5.r1.fastq.gz\n",
      "d5.r2.fastq.gz\n",
      "d6.r1.fastq.gz\n",
      "d6.r2.fastq.gz\n",
      "d7.r1.fastq.gz\n",
      "d7.r2.fastq.gz\n",
      "e1.r1.fastq.gz\n",
      "e1.r2.fastq.gz\n",
      "e2.r1.fastq.gz\n",
      "e2.r2.fastq.gz\n",
      "e3.r1.fastq.gz\n",
      "e3.r2.fastq.gz\n",
      "e4.r1.fastq.gz\n",
      "e4.r2.fastq.gz\n",
      "e5.r1.fastq.gz\n",
      "e5.r2.fastq.gz\n",
      "e6.r1.fastq.gz\n",
      "e6.r2.fastq.gz\n",
      "e7.r1.fastq.gz\n",
      "e7.r2.fastq.gz\n",
      "f1.r1.fastq.gz\n",
      "f1.r2.fastq.gz\n",
      "f2.r1.fastq.gz\n",
      "f2.r2.fastq.gz\n",
      "f3.r1.fastq.gz\n",
      "f3.r2.fastq.gz\n",
      "f4.r1.fastq.gz\n",
      "f4.r2.fastq.gz\n",
      "f5.r1.fastq.gz\n",
      "f5.r2.fastq.gz\n",
      "f6.r1.fastq.gz\n",
      "f6.r2.fastq.gz\n",
      "f7.r1.fastq.gz\n",
      "f7.r2.fastq.gz\n",
      "g1.r1.fastq.gz\n",
      "g1.r2.fastq.gz\n",
      "g2.r1.fastq.gz\n",
      "g2.r2.fastq.gz\n",
      "g3.r1.fastq.gz\n",
      "g3.r2.fastq.gz\n",
      "g4.r1.fastq.gz\n",
      "g4.r2.fastq.gz\n",
      "g5.r1.fastq.gz\n",
      "g5.r2.fastq.gz\n",
      "g6.r1.fastq.gz\n",
      "g6.r2.fastq.gz\n",
      "g7.r1.fastq.gz\n",
      "g7.r2.fastq.gz\n",
      "h1.r1.fastq.gz\n",
      "h1.r2.fastq.gz\n",
      "h2.r1.fastq.gz\n",
      "h2.r2.fastq.gz\n",
      "h3.r1.fastq.gz\n",
      "h3.r2.fastq.gz\n",
      "h4.r1.fastq.gz\n",
      "h4.r2.fastq.gz\n",
      "h5.r1.fastq.gz\n",
      "h5.r2.fastq.gz\n",
      "h6.r1.fastq.gz\n",
      "h6.r2.fastq.gz\n",
      "h7.r1.fastq.gz\n",
      "h7.r2.fastq.gz\n"
     ]
    },
    {
     "name": "stderr",
     "output_type": "stream",
     "text": [
      "cp: ‘a1.r2.fastq.gz’ and ‘a1.r2.fastq.gz’ are the same file\n",
      "cp: ‘a2.r2.fastq.gz’ and ‘a2.r2.fastq.gz’ are the same file\n",
      "cp: ‘a3.r2.fastq.gz’ and ‘a3.r2.fastq.gz’ are the same file\n",
      "cp: ‘a4.r2.fastq.gz’ and ‘a4.r2.fastq.gz’ are the same file\n",
      "cp: ‘a5.r2.fastq.gz’ and ‘a5.r2.fastq.gz’ are the same file\n",
      "cp: ‘a6.r2.fastq.gz’ and ‘a6.r2.fastq.gz’ are the same file\n",
      "cp: ‘a7.r2.fastq.gz’ and ‘a7.r2.fastq.gz’ are the same file\n",
      "cp: ‘a8.r2.fastq.gz’ and ‘a8.r2.fastq.gz’ are the same file\n",
      "cp: ‘b1.r2.fastq.gz’ and ‘b1.r2.fastq.gz’ are the same file\n",
      "cp: ‘b2.r2.fastq.gz’ and ‘b2.r2.fastq.gz’ are the same file\n",
      "cp: ‘b3.r2.fastq.gz’ and ‘b3.r2.fastq.gz’ are the same file\n",
      "cp: ‘b4.r1.fastq.gz’ and ‘b4.r1.fastq.gz’ are the same file\n",
      "cp: ‘b4.r2.fastq.gz’ and ‘b4.r2.fastq.gz’ are the same file\n",
      "cp: ‘b5.r1.fastq.gz’ and ‘b5.r1.fastq.gz’ are the same file\n",
      "cp: ‘b5.r2.fastq.gz’ and ‘b5.r2.fastq.gz’ are the same file\n",
      "cp: ‘b6.r1.fastq.gz’ and ‘b6.r1.fastq.gz’ are the same file\n",
      "cp: ‘b6.r2.fastq.gz’ and ‘b6.r2.fastq.gz’ are the same file\n",
      "cp: ‘b7.r1.fastq.gz’ and ‘b7.r1.fastq.gz’ are the same file\n",
      "cp: ‘b7.r2.fastq.gz’ and ‘b7.r2.fastq.gz’ are the same file\n",
      "cp: ‘c1.r1.fastq.gz’ and ‘c1.r1.fastq.gz’ are the same file\n",
      "cp: ‘c1.r2.fastq.gz’ and ‘c1.r2.fastq.gz’ are the same file\n",
      "cp: ‘c2.r1.fastq.gz’ and ‘c2.r1.fastq.gz’ are the same file\n",
      "cp: ‘c2.r2.fastq.gz’ and ‘c2.r2.fastq.gz’ are the same file\n",
      "cp: ‘c3.r1.fastq.gz’ and ‘c3.r1.fastq.gz’ are the same file\n",
      "cp: ‘c3.r2.fastq.gz’ and ‘c3.r2.fastq.gz’ are the same file\n",
      "cp: ‘c4.r1.fastq.gz’ and ‘c4.r1.fastq.gz’ are the same file\n",
      "cp: ‘c4.r2.fastq.gz’ and ‘c4.r2.fastq.gz’ are the same file\n",
      "cp: ‘c5.r1.fastq.gz’ and ‘c5.r1.fastq.gz’ are the same file\n",
      "cp: ‘c5.r2.fastq.gz’ and ‘c5.r2.fastq.gz’ are the same file\n",
      "cp: ‘c6.r1.fastq.gz’ and ‘c6.r1.fastq.gz’ are the same file\n",
      "cp: ‘c6.r2.fastq.gz’ and ‘c6.r2.fastq.gz’ are the same file\n",
      "cp: ‘c7.r1.fastq.gz’ and ‘c7.r1.fastq.gz’ are the same file\n",
      "cp: ‘c7.r2.fastq.gz’ and ‘c7.r2.fastq.gz’ are the same file\n",
      "cp: ‘d1.r1.fastq.gz’ and ‘d1.r1.fastq.gz’ are the same file\n",
      "cp: ‘d1.r2.fastq.gz’ and ‘d1.r2.fastq.gz’ are the same file\n",
      "cp: ‘d2.r1.fastq.gz’ and ‘d2.r1.fastq.gz’ are the same file\n",
      "cp: ‘d2.r2.fastq.gz’ and ‘d2.r2.fastq.gz’ are the same file\n",
      "cp: ‘d3.r1.fastq.gz’ and ‘d3.r1.fastq.gz’ are the same file\n",
      "cp: ‘d3.r2.fastq.gz’ and ‘d3.r2.fastq.gz’ are the same file\n",
      "cp: ‘d4.r1.fastq.gz’ and ‘d4.r1.fastq.gz’ are the same file\n",
      "cp: ‘d4.r2.fastq.gz’ and ‘d4.r2.fastq.gz’ are the same file\n",
      "cp: ‘d5.r1.fastq.gz’ and ‘d5.r1.fastq.gz’ are the same file\n",
      "cp: ‘d5.r2.fastq.gz’ and ‘d5.r2.fastq.gz’ are the same file\n",
      "cp: ‘d6.r1.fastq.gz’ and ‘d6.r1.fastq.gz’ are the same file\n",
      "cp: ‘d6.r2.fastq.gz’ and ‘d6.r2.fastq.gz’ are the same file\n",
      "cp: ‘d7.r1.fastq.gz’ and ‘d7.r1.fastq.gz’ are the same file\n",
      "cp: ‘d7.r2.fastq.gz’ and ‘d7.r2.fastq.gz’ are the same file\n",
      "cp: ‘e1.r1.fastq.gz’ and ‘e1.r1.fastq.gz’ are the same file\n",
      "cp: ‘e1.r2.fastq.gz’ and ‘e1.r2.fastq.gz’ are the same file\n",
      "cp: ‘e2.r1.fastq.gz’ and ‘e2.r1.fastq.gz’ are the same file\n",
      "cp: ‘e2.r2.fastq.gz’ and ‘e2.r2.fastq.gz’ are the same file\n",
      "cp: ‘e3.r1.fastq.gz’ and ‘e3.r1.fastq.gz’ are the same file\n",
      "cp: ‘e3.r2.fastq.gz’ and ‘e3.r2.fastq.gz’ are the same file\n",
      "cp: ‘e4.r1.fastq.gz’ and ‘e4.r1.fastq.gz’ are the same file\n",
      "cp: ‘e4.r2.fastq.gz’ and ‘e4.r2.fastq.gz’ are the same file\n",
      "cp: ‘e5.r1.fastq.gz’ and ‘e5.r1.fastq.gz’ are the same file\n",
      "cp: ‘e5.r2.fastq.gz’ and ‘e5.r2.fastq.gz’ are the same file\n",
      "cp: ‘e6.r1.fastq.gz’ and ‘e6.r1.fastq.gz’ are the same file\n",
      "cp: ‘e6.r2.fastq.gz’ and ‘e6.r2.fastq.gz’ are the same file\n",
      "cp: ‘e7.r1.fastq.gz’ and ‘e7.r1.fastq.gz’ are the same file\n",
      "cp: ‘e7.r2.fastq.gz’ and ‘e7.r2.fastq.gz’ are the same file\n",
      "cp: ‘f1.r1.fastq.gz’ and ‘f1.r1.fastq.gz’ are the same file\n",
      "cp: ‘f1.r2.fastq.gz’ and ‘f1.r2.fastq.gz’ are the same file\n",
      "cp: ‘f2.r1.fastq.gz’ and ‘f2.r1.fastq.gz’ are the same file\n",
      "cp: ‘f2.r2.fastq.gz’ and ‘f2.r2.fastq.gz’ are the same file\n",
      "cp: ‘f3.r1.fastq.gz’ and ‘f3.r1.fastq.gz’ are the same file\n",
      "cp: ‘f3.r2.fastq.gz’ and ‘f3.r2.fastq.gz’ are the same file\n",
      "cp: ‘f4.r1.fastq.gz’ and ‘f4.r1.fastq.gz’ are the same file\n",
      "cp: ‘f4.r2.fastq.gz’ and ‘f4.r2.fastq.gz’ are the same file\n",
      "cp: ‘f5.r1.fastq.gz’ and ‘f5.r1.fastq.gz’ are the same file\n",
      "cp: ‘f5.r2.fastq.gz’ and ‘f5.r2.fastq.gz’ are the same file\n",
      "cp: ‘f6.r1.fastq.gz’ and ‘f6.r1.fastq.gz’ are the same file\n",
      "cp: ‘f6.r2.fastq.gz’ and ‘f6.r2.fastq.gz’ are the same file\n",
      "cp: ‘f7.r1.fastq.gz’ and ‘f7.r1.fastq.gz’ are the same file\n",
      "cp: ‘f7.r2.fastq.gz’ and ‘f7.r2.fastq.gz’ are the same file\n",
      "cp: ‘g1.r1.fastq.gz’ and ‘g1.r1.fastq.gz’ are the same file\n",
      "cp: ‘g1.r2.fastq.gz’ and ‘g1.r2.fastq.gz’ are the same file\n",
      "cp: ‘g2.r1.fastq.gz’ and ‘g2.r1.fastq.gz’ are the same file\n",
      "cp: ‘g2.r2.fastq.gz’ and ‘g2.r2.fastq.gz’ are the same file\n",
      "cp: ‘g3.r1.fastq.gz’ and ‘g3.r1.fastq.gz’ are the same file\n",
      "cp: ‘g3.r2.fastq.gz’ and ‘g3.r2.fastq.gz’ are the same file\n",
      "cp: ‘g4.r1.fastq.gz’ and ‘g4.r1.fastq.gz’ are the same file\n",
      "cp: ‘g4.r2.fastq.gz’ and ‘g4.r2.fastq.gz’ are the same file\n",
      "cp: ‘g5.r1.fastq.gz’ and ‘g5.r1.fastq.gz’ are the same file\n",
      "cp: ‘g5.r2.fastq.gz’ and ‘g5.r2.fastq.gz’ are the same file\n",
      "cp: ‘g6.r1.fastq.gz’ and ‘g6.r1.fastq.gz’ are the same file\n",
      "cp: ‘g6.r2.fastq.gz’ and ‘g6.r2.fastq.gz’ are the same file\n",
      "cp: ‘g7.r1.fastq.gz’ and ‘g7.r1.fastq.gz’ are the same file\n",
      "cp: ‘g7.r2.fastq.gz’ and ‘g7.r2.fastq.gz’ are the same file\n",
      "cp: ‘h1.r1.fastq.gz’ and ‘h1.r1.fastq.gz’ are the same file\n",
      "cp: ‘h1.r2.fastq.gz’ and ‘h1.r2.fastq.gz’ are the same file\n",
      "cp: ‘h2.r1.fastq.gz’ and ‘h2.r1.fastq.gz’ are the same file\n",
      "cp: ‘h2.r2.fastq.gz’ and ‘h2.r2.fastq.gz’ are the same file\n",
      "cp: ‘h3.r1.fastq.gz’ and ‘h3.r1.fastq.gz’ are the same file\n",
      "cp: ‘h3.r2.fastq.gz’ and ‘h3.r2.fastq.gz’ are the same file\n",
      "cp: ‘h4.r1.fastq.gz’ and ‘h4.r1.fastq.gz’ are the same file\n",
      "cp: ‘h4.r2.fastq.gz’ and ‘h4.r2.fastq.gz’ are the same file\n",
      "cp: ‘h5.r1.fastq.gz’ and ‘h5.r1.fastq.gz’ are the same file\n",
      "cp: ‘h5.r2.fastq.gz’ and ‘h5.r2.fastq.gz’ are the same file\n",
      "cp: ‘h6.r1.fastq.gz’ and ‘h6.r1.fastq.gz’ are the same file\n",
      "cp: ‘h6.r2.fastq.gz’ and ‘h6.r2.fastq.gz’ are the same file\n",
      "cp: ‘h7.r1.fastq.gz’ and ‘h7.r1.fastq.gz’ are the same file\n",
      "cp: ‘h7.r2.fastq.gz’ and ‘h7.r2.fastq.gz’ are the same file\n"
     ]
    }
   ],
   "source": [
    "%%bash\n",
    "cd /home/at120/badas/2015-03-11_AE52Y-redo\n",
    "for i in 0*gz; do cp \"$i\" `echo $i | perl -pe 's/^.+n0([12])\\sflu.+\\s([a-z]\\d)\\..+(fastq.gz)$/$2.r$1.$3/g'` ; done\n",
    "\n",
    "ls"
   ]
  }
 ],
 "metadata": {
  "kernelspec": {
   "display_name": "Python 3",
   "language": "python",
   "name": "python3"
  },
  "language_info": {
   "codemirror_mode": {
    "name": "ipython",
    "version": 3
   },
   "file_extension": ".py",
   "mimetype": "text/x-python",
   "name": "python",
   "nbconvert_exporter": "python",
   "pygments_lexer": "ipython3",
   "version": "3.5.3"
  },
  "latex_envs": {
   "bibliofile": "biblio.bib",
   "cite_by": "apalike",
   "current_citInitial": 1,
   "eqLabelWithNumbers": true,
   "eqNumInitial": 0
  }
 },
 "nbformat": 4,
 "nbformat_minor": 2
}

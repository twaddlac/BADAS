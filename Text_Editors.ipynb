{
 "cells": [
  {
   "cell_type": "markdown",
   "metadata": {},
   "source": [
    "# Text Editors\n",
    "\n",
    "Text editors are an integral part of data analysis. There are many different flavors: some have a graphical interface, some are on the command line; some are good for writing papers, others for code. As you begin to conduct more analyses you will see that some tools suit you better than others. With that said, we will introduce you to some of the text editors that we use often and recommend."
   ]
  },
  {
   "cell_type": "markdown",
   "metadata": {},
   "source": [
    "## vi/vim\n",
    "\n",
    "vim is one of the most basic, ligthweight, and widely available and used text editors around. It is bundled with almost all unix environments. It is convenient for working remotely where you do not have a keyboard and mouse, which graphical editors require. Instead, you use commands and the arrow keys to navigate the file. Sounds intimidating but it's pretty straightforward!"
   ]
  },
  {
   "cell_type": "markdown",
   "metadata": {},
   "source": [
    "### Basic Usage\n",
    "\n",
    "To get started with vim, you can open a new file with\n",
    "```bash\n",
    "vim\n",
    "```\n",
    "If you want to open an existing file, just add the name of the file after vim \n",
    "```bash\n",
    "vim [filename]\n",
    "```\n",
    "\n",
    "### Command Mode\n",
    "\n",
    "When you first open vim, all alphanumeric keys are bound to commands. For example, if you type `dd` then you will delete the line where your cursor is instead of actually entering 'dd'. \n",
    "\n",
    "**Navigation**\n",
    "- `0` moves the cursor to the beginning of the line.\n",
    "- `$` moves the cursor to the end of the line.\n",
    "- `shift+G` move to the end of the file.\n",
    "- `gg` move to the beginning of the file.\n",
    "- `: + line number` go directly to line number.\n",
    "- `shift+5` go to corresponding bracket.\n",
    "- `shift+3` go to previous instance of this word\n",
    "\n",
    "**Editing**\n",
    "- `d` starts the delete operation.\n",
    "- `dw` will delete a word.\n",
    "- `d0` will delete to the beginning of a line.\n",
    "- `d$` will delete to the end of a line.\n",
    "- `dd` will delete an entire line.\n",
    "- `dgg` will delete to the beginning of the file.\n",
    "- `dG` will delete to the end of the file.\n",
    "- `u` will undo the last operation.\n",
    "- `Ctrl-r` will redo the last undo.\n",
    "\n",
    "### Insert Mode\n",
    "\n",
    "This is the basic editing mode. All of the keys will function as normal: i.e. if you now type `dd` you will enter 'dd' into the file.\n",
    "\n",
    "- `i` enters insert mode\n",
    "- `escape` exits insert mode\n",
    "**Copying and Pasting**\n",
    "- `v` highlight one character at a time.\n",
    "- `V` highlight one line at a time.\n",
    "- `Ctrl-v` highlight by columns.\n",
    "- `p` paste text after the current line.\n",
    "- `P` paste text on the current line.\n",
    "- `y` yank text into the copy buffer.\n",
    "\n",
    "### Menu Mode\n",
    "\n",
    "**Regex/substitute**\n",
    "- `/text` search for text in the document, going forward.\n",
    "- `n` move the cursor to the next instance of the text from the last search. This will wrap to the beginning of the document.\n",
    "- `N` move the cursor to the previous instance of the text from the last search.\n",
    "- `?text` search for text in the document, going backwards.\n",
    "- `:%s/text/replacement text/g` search through the entire document for text and replace it with replacement text.\n",
    "- `:%s/text/replacement text/gc` search through the entire document and confirm before replacing text.\n",
    "\n",
    "**Save files**\n",
    "- `:w` saves the file\n",
    "- `:w [filename]` saves the file to `filename`\n",
    "- `:q` exits vime\n",
    "- `:wq` saves and quits\n",
    "- `:q!` force quit (ignore prompts)\n",
    "\n"
   ]
  }
 ],
 "metadata": {
  "kernelspec": {
   "display_name": "Bash",
   "language": "bash",
   "name": "bash"
  },
  "language_info": {
   "codemirror_mode": "shell",
   "file_extension": ".sh",
   "mimetype": "text/x-sh",
   "name": "bash"
  },
  "toc": {
   "nav_menu": {},
   "number_sections": true,
   "sideBar": true,
   "skip_h1_title": false,
   "toc_cell": false,
   "toc_position": {},
   "toc_section_display": "block",
   "toc_window_display": false
  }
 },
 "nbformat": 4,
 "nbformat_minor": 2
}
